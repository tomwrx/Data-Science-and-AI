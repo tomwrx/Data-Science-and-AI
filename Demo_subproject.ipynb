{
  "nbformat": 4,
  "nbformat_minor": 0,
  "metadata": {
    "kernelspec": {
      "display_name": "Python 3",
      "language": "python",
      "name": "python3"
    },
    "language_info": {
      "codemirror_mode": {
        "name": "ipython",
        "version": 3
      },
      "file_extension": ".py",
      "mimetype": "text/x-python",
      "name": "python",
      "nbconvert_exporter": "python",
      "pygments_lexer": "ipython3",
      "version": "3.8.5"
    },
    "colab": {
      "name": "Demo_subproject.ipynb",
      "provenance": [],
      "collapsed_sections": [],
      "include_colab_link": true
    }
  },
  "cells": [
    {
      "cell_type": "markdown",
      "metadata": {
        "id": "view-in-github",
        "colab_type": "text"
      },
      "source": [
        "<a href=\"https://colab.research.google.com/github/tomwrx/Data-Science-and-AI/blob/main/Demo_subproject.ipynb\" target=\"_parent\"><img src=\"https://colab.research.google.com/assets/colab-badge.svg\" alt=\"Open In Colab\"/></a>"
      ]
    },
    {
      "cell_type": "markdown",
      "metadata": {
        "id": "4SX9m5APG18h"
      },
      "source": [
        "# Module 1: Data Science Fundamentals"
      ]
    },
    {
      "cell_type": "markdown",
      "metadata": {
        "id": "jNJuqBBVG18j"
      },
      "source": [
        "## Module 1: Data Science Fundamentals\n",
        "### Sprint 1: Data Wrangling and Storytelling\n",
        "### Subproject 1: Exploratory Data Analysis"
      ]
    },
    {
      "cell_type": "markdown",
      "metadata": {
        "id": "J7W0B6sXG18k"
      },
      "source": [
        "Welcome to the very first subproject of Data Science Fundamentals module. Throughout 3 sprints, you will gain a solid understanding of fundamentals of Data Science. We will master exploratory data analysis (EDA), the bread and butter of data scientists, dive deep into statistical hypothesis testing, and finish-up with modeling (machine learning)! This will prepare you to tackle the capstone project, which will serve as your portfolio item.\n",
        "\n",
        "The first part focuses focuses on EDA. You will learn how to analyze data, generate statistics, and make informative, eye-catching visualizations."
      ]
    },
    {
      "cell_type": "markdown",
      "metadata": {
        "id": "90qdES7-G18l"
      },
      "source": [
        "## Learning outcomes:\n",
        "\n",
        "- Submit assignments via Github (save work to Github)\n",
        "- Read datasets from CSVs for analysis with Pandas\n",
        "- Use basic Pandas functions for Exploratory Data Analysis (EDA)\n",
        "- Generate Basic Visualizations with Pandas - line charts, scatter plots, histograms."
      ]
    },
    {
      "cell_type": "markdown",
      "metadata": {
        "id": "6eXNDjlLG18l"
      },
      "source": [
        "## Working with Github"
      ]
    },
    {
      "cell_type": "markdown",
      "metadata": {
        "id": "rVB9Uo5JG18l"
      },
      "source": [
        "Even though saving Colab notebooks is very simple, every data scientist should first understand what GitHub is and how it can be used fully. Go through [uploading your project to Github](https://lab.github.com/githubtraining/uploading-your-project-to-github) tutorial."
      ]
    },
    {
      "cell_type": "markdown",
      "metadata": {
        "id": "qftyuUCaG18l"
      },
      "source": [
        "### Exercise - your first commit"
      ]
    },
    {
      "cell_type": "markdown",
      "metadata": {
        "id": "JIve3Y0xG18m"
      },
      "source": [
        "Your first task is to store this notebook on your personal GitHub. Start by creating a repository and then upload this file (which you can download using \"File\"->\"Download .ipynb\").\n",
        "\n",
        "Now, whenever you make changes to the notebook, select \"Save a copy in GitHub\" and select your repository - this will create a new commit. Remember to set the commit message to something useful and informative - a sentence explaining what was done. Make sure you commit regularly - this will prevent you from losing work and let us see your progress better.\n",
        "\n",
        "To test whether saving of the notebook works, change the quoted text in the piece of code below, then save the notebook. Close the window and open the notebook again (you can do this using https://colab.research.google.com/ , selecting the 'GitHub' tab and adding the github link to your notebook). The text should remain changed.\n",
        "\n"
      ]
    },
    {
      "cell_type": "code",
      "metadata": {
        "id": "YgrbXZjEKgim",
        "colab": {
          "base_uri": "https://localhost:8080/"
        },
        "outputId": "4e705af1-9526-4c1c-c70d-519473a3dcb3"
      },
      "source": [
        "print('Hello world')"
      ],
      "execution_count": 1,
      "outputs": [
        {
          "output_type": "stream",
          "text": [
            "Hello world\n"
          ],
          "name": "stdout"
        }
      ]
    },
    {
      "cell_type": "markdown",
      "metadata": {
        "id": "B5VtJ3BhLxnV"
      },
      "source": [
        "Make sure the repository is public and share the link to it with Turing College."
      ]
    },
    {
      "cell_type": "markdown",
      "metadata": {
        "id": "HcnVbAikG18m"
      },
      "source": [
        "## Introduction to Pandas"
      ]
    },
    {
      "cell_type": "markdown",
      "metadata": {
        "id": "CKXC070NG18m"
      },
      "source": [
        "<center><img width=\"300\" src=\"https://upload.wikimedia.org/wikipedia/commons/thumb/e/ed/Pandas_logo.svg/1200px-Pandas_logo.svg.png\" /></center>"
      ]
    },
    {
      "cell_type": "markdown",
      "metadata": {
        "id": "0tJnORYtG18m"
      },
      "source": [
        "To explore the data, we will use Pandas. Pandas is the most popular Python library for [EDA (exploratory data analysis)](https://towardsdatascience.com/exploratory-data-analysis-8fc1cb20fd15). No matter how complex the EDA, everything starts with loading a dataset. Get a grip of [pandas basics](https://www.learnpython.org/en/Pandas_Basics) and go through [importing a CSV dataset into Pandas](https://www.datacamp.com/community/tutorials/pandas-read-csv) tutorial, and let's start with loading the dataset from a CSV.\n",
        "\n",
        "Key takeways:\n",
        "* Pandas primary data structure is a `Dataframe`.\n",
        "* Dictionary of lists == Pandas DataFrame (conceptually). You can treat each column as a key, while column contents - as a list of values.\n",
        "* Pandas Dataframes unlock a vast amount of operations like grouping, filtering, calculating means, quantiles, unlike standard Python data structures."
      ]
    },
    {
      "cell_type": "markdown",
      "metadata": {
        "id": "euaUQXxvG18n"
      },
      "source": [
        "\n",
        "### Exercise - loading a dataset"
      ]
    },
    {
      "cell_type": "markdown",
      "metadata": {
        "id": "d3fNXIXPG18n"
      },
      "source": [
        "In this exercise, you will learn to load a Pandas dataset. We'll explore 2 methods to load a dataset - from a remote host and from your Colab notebook's local environment.\n",
        "\n",
        "1. Load a [remote](https://raw.githubusercontent.com/fivethirtyeight/data/master/nba-elo/nbaallelo.csv) dataset into Pandas and assign it to a variable `df1`.\n",
        "2. Download the same dataset using the provided `wget` command. Read the dataset with Pandas and assign it to a variable `df2`. \n",
        "3. Run the assert command to check that the two datasets are indeed the same. The head(x) function also lets you check the first x entries of the dataset - try it out."
      ]
    },
    {
      "cell_type": "code",
      "metadata": {
        "id": "dpMJZT6CG18n",
        "colab": {
          "base_uri": "https://localhost:8080/"
        },
        "outputId": "d65d4d92-8d39-4772-89b1-8c2924f343af"
      },
      "source": [
        "# wget is a bash command line program, which is used to download files or website sources from the internet\n",
        "!wget https://raw.githubusercontent.com/fivethirtyeight/data/master/nba-elo/nbaallelo.csv -O nbaaellelo.csv"
      ],
      "execution_count": 7,
      "outputs": [
        {
          "output_type": "stream",
          "text": [
            "--2021-03-15 17:53:29--  https://raw.githubusercontent.com/fivethirtyeight/data/master/nba-elo/nbaallelo.csv\n",
            "Resolving raw.githubusercontent.com (raw.githubusercontent.com)... 185.199.111.133, 185.199.109.133, 185.199.110.133, ...\n",
            "Connecting to raw.githubusercontent.com (raw.githubusercontent.com)|185.199.111.133|:443... connected.\n",
            "HTTP request sent, awaiting response... 200 OK\n",
            "Length: 18173265 (17M) [text/plain]\n",
            "Saving to: ‘nbaaellelo.csv’\n",
            "\n",
            "nbaaellelo.csv      100%[===================>]  17.33M  40.3MB/s    in 0.4s    \n",
            "\n",
            "2021-03-15 17:53:30 (40.3 MB/s) - ‘nbaaellelo.csv’ saved [18173265/18173265]\n",
            "\n"
          ],
          "name": "stdout"
        }
      ]
    },
    {
      "cell_type": "code",
      "metadata": {
        "id": "QN5aiv3EA4_s"
      },
      "source": [
        "import pandas as pd"
      ],
      "execution_count": 2,
      "outputs": []
    },
    {
      "cell_type": "code",
      "metadata": {
        "colab": {
          "base_uri": "https://localhost:8080/",
          "height": 215
        },
        "id": "Za0QtHNUA_c4",
        "outputId": "fc4a7dbf-74c8-4564-f417-b5bce8d5879e"
      },
      "source": [
        "df1 = pd.read_csv(\"https://raw.githubusercontent.com/fivethirtyeight/data/master/nba-elo/nbaallelo.csv\")\r\n",
        "df1.head()"
      ],
      "execution_count": 3,
      "outputs": [
        {
          "output_type": "execute_result",
          "data": {
            "text/html": [
              "<div>\n",
              "<style scoped>\n",
              "    .dataframe tbody tr th:only-of-type {\n",
              "        vertical-align: middle;\n",
              "    }\n",
              "\n",
              "    .dataframe tbody tr th {\n",
              "        vertical-align: top;\n",
              "    }\n",
              "\n",
              "    .dataframe thead th {\n",
              "        text-align: right;\n",
              "    }\n",
              "</style>\n",
              "<table border=\"1\" class=\"dataframe\">\n",
              "  <thead>\n",
              "    <tr style=\"text-align: right;\">\n",
              "      <th></th>\n",
              "      <th>gameorder</th>\n",
              "      <th>game_id</th>\n",
              "      <th>lg_id</th>\n",
              "      <th>_iscopy</th>\n",
              "      <th>year_id</th>\n",
              "      <th>date_game</th>\n",
              "      <th>seasongame</th>\n",
              "      <th>is_playoffs</th>\n",
              "      <th>team_id</th>\n",
              "      <th>fran_id</th>\n",
              "      <th>pts</th>\n",
              "      <th>elo_i</th>\n",
              "      <th>elo_n</th>\n",
              "      <th>win_equiv</th>\n",
              "      <th>opp_id</th>\n",
              "      <th>opp_fran</th>\n",
              "      <th>opp_pts</th>\n",
              "      <th>opp_elo_i</th>\n",
              "      <th>opp_elo_n</th>\n",
              "      <th>game_location</th>\n",
              "      <th>game_result</th>\n",
              "      <th>forecast</th>\n",
              "      <th>notes</th>\n",
              "    </tr>\n",
              "  </thead>\n",
              "  <tbody>\n",
              "    <tr>\n",
              "      <th>0</th>\n",
              "      <td>1</td>\n",
              "      <td>194611010TRH</td>\n",
              "      <td>NBA</td>\n",
              "      <td>0</td>\n",
              "      <td>1947</td>\n",
              "      <td>11/1/1946</td>\n",
              "      <td>1</td>\n",
              "      <td>0</td>\n",
              "      <td>TRH</td>\n",
              "      <td>Huskies</td>\n",
              "      <td>66</td>\n",
              "      <td>1300.0000</td>\n",
              "      <td>1293.2767</td>\n",
              "      <td>40.294830</td>\n",
              "      <td>NYK</td>\n",
              "      <td>Knicks</td>\n",
              "      <td>68</td>\n",
              "      <td>1300.0000</td>\n",
              "      <td>1306.7233</td>\n",
              "      <td>H</td>\n",
              "      <td>L</td>\n",
              "      <td>0.640065</td>\n",
              "      <td>NaN</td>\n",
              "    </tr>\n",
              "    <tr>\n",
              "      <th>1</th>\n",
              "      <td>1</td>\n",
              "      <td>194611010TRH</td>\n",
              "      <td>NBA</td>\n",
              "      <td>1</td>\n",
              "      <td>1947</td>\n",
              "      <td>11/1/1946</td>\n",
              "      <td>1</td>\n",
              "      <td>0</td>\n",
              "      <td>NYK</td>\n",
              "      <td>Knicks</td>\n",
              "      <td>68</td>\n",
              "      <td>1300.0000</td>\n",
              "      <td>1306.7233</td>\n",
              "      <td>41.705170</td>\n",
              "      <td>TRH</td>\n",
              "      <td>Huskies</td>\n",
              "      <td>66</td>\n",
              "      <td>1300.0000</td>\n",
              "      <td>1293.2767</td>\n",
              "      <td>A</td>\n",
              "      <td>W</td>\n",
              "      <td>0.359935</td>\n",
              "      <td>NaN</td>\n",
              "    </tr>\n",
              "    <tr>\n",
              "      <th>2</th>\n",
              "      <td>2</td>\n",
              "      <td>194611020CHS</td>\n",
              "      <td>NBA</td>\n",
              "      <td>0</td>\n",
              "      <td>1947</td>\n",
              "      <td>11/2/1946</td>\n",
              "      <td>1</td>\n",
              "      <td>0</td>\n",
              "      <td>CHS</td>\n",
              "      <td>Stags</td>\n",
              "      <td>63</td>\n",
              "      <td>1300.0000</td>\n",
              "      <td>1309.6521</td>\n",
              "      <td>42.012257</td>\n",
              "      <td>NYK</td>\n",
              "      <td>Knicks</td>\n",
              "      <td>47</td>\n",
              "      <td>1306.7233</td>\n",
              "      <td>1297.0712</td>\n",
              "      <td>H</td>\n",
              "      <td>W</td>\n",
              "      <td>0.631101</td>\n",
              "      <td>NaN</td>\n",
              "    </tr>\n",
              "    <tr>\n",
              "      <th>3</th>\n",
              "      <td>2</td>\n",
              "      <td>194611020CHS</td>\n",
              "      <td>NBA</td>\n",
              "      <td>1</td>\n",
              "      <td>1947</td>\n",
              "      <td>11/2/1946</td>\n",
              "      <td>2</td>\n",
              "      <td>0</td>\n",
              "      <td>NYK</td>\n",
              "      <td>Knicks</td>\n",
              "      <td>47</td>\n",
              "      <td>1306.7233</td>\n",
              "      <td>1297.0712</td>\n",
              "      <td>40.692783</td>\n",
              "      <td>CHS</td>\n",
              "      <td>Stags</td>\n",
              "      <td>63</td>\n",
              "      <td>1300.0000</td>\n",
              "      <td>1309.6521</td>\n",
              "      <td>A</td>\n",
              "      <td>L</td>\n",
              "      <td>0.368899</td>\n",
              "      <td>NaN</td>\n",
              "    </tr>\n",
              "    <tr>\n",
              "      <th>4</th>\n",
              "      <td>3</td>\n",
              "      <td>194611020DTF</td>\n",
              "      <td>NBA</td>\n",
              "      <td>0</td>\n",
              "      <td>1947</td>\n",
              "      <td>11/2/1946</td>\n",
              "      <td>1</td>\n",
              "      <td>0</td>\n",
              "      <td>DTF</td>\n",
              "      <td>Falcons</td>\n",
              "      <td>33</td>\n",
              "      <td>1300.0000</td>\n",
              "      <td>1279.6189</td>\n",
              "      <td>38.864048</td>\n",
              "      <td>WSC</td>\n",
              "      <td>Capitols</td>\n",
              "      <td>50</td>\n",
              "      <td>1300.0000</td>\n",
              "      <td>1320.3811</td>\n",
              "      <td>H</td>\n",
              "      <td>L</td>\n",
              "      <td>0.640065</td>\n",
              "      <td>NaN</td>\n",
              "    </tr>\n",
              "  </tbody>\n",
              "</table>\n",
              "</div>"
            ],
            "text/plain": [
              "   gameorder       game_id lg_id  ...  game_result  forecast notes\n",
              "0          1  194611010TRH   NBA  ...            L  0.640065   NaN\n",
              "1          1  194611010TRH   NBA  ...            W  0.359935   NaN\n",
              "2          2  194611020CHS   NBA  ...            W  0.631101   NaN\n",
              "3          2  194611020CHS   NBA  ...            L  0.368899   NaN\n",
              "4          3  194611020DTF   NBA  ...            L  0.640065   NaN\n",
              "\n",
              "[5 rows x 23 columns]"
            ]
          },
          "metadata": {
            "tags": []
          },
          "execution_count": 3
        }
      ]
    },
    {
      "cell_type": "code",
      "metadata": {
        "colab": {
          "base_uri": "https://localhost:8080/",
          "height": 215
        },
        "id": "2QJgXTZyBMzA",
        "outputId": "c2d21c33-f98b-4b68-fa02-9ed42ade0669"
      },
      "source": [
        "df2 = pd.read_csv('nbaaellelo.csv')\r\n",
        "df2.head()"
      ],
      "execution_count": 8,
      "outputs": [
        {
          "output_type": "execute_result",
          "data": {
            "text/html": [
              "<div>\n",
              "<style scoped>\n",
              "    .dataframe tbody tr th:only-of-type {\n",
              "        vertical-align: middle;\n",
              "    }\n",
              "\n",
              "    .dataframe tbody tr th {\n",
              "        vertical-align: top;\n",
              "    }\n",
              "\n",
              "    .dataframe thead th {\n",
              "        text-align: right;\n",
              "    }\n",
              "</style>\n",
              "<table border=\"1\" class=\"dataframe\">\n",
              "  <thead>\n",
              "    <tr style=\"text-align: right;\">\n",
              "      <th></th>\n",
              "      <th>gameorder</th>\n",
              "      <th>game_id</th>\n",
              "      <th>lg_id</th>\n",
              "      <th>_iscopy</th>\n",
              "      <th>year_id</th>\n",
              "      <th>date_game</th>\n",
              "      <th>seasongame</th>\n",
              "      <th>is_playoffs</th>\n",
              "      <th>team_id</th>\n",
              "      <th>fran_id</th>\n",
              "      <th>pts</th>\n",
              "      <th>elo_i</th>\n",
              "      <th>elo_n</th>\n",
              "      <th>win_equiv</th>\n",
              "      <th>opp_id</th>\n",
              "      <th>opp_fran</th>\n",
              "      <th>opp_pts</th>\n",
              "      <th>opp_elo_i</th>\n",
              "      <th>opp_elo_n</th>\n",
              "      <th>game_location</th>\n",
              "      <th>game_result</th>\n",
              "      <th>forecast</th>\n",
              "      <th>notes</th>\n",
              "    </tr>\n",
              "  </thead>\n",
              "  <tbody>\n",
              "    <tr>\n",
              "      <th>0</th>\n",
              "      <td>1</td>\n",
              "      <td>194611010TRH</td>\n",
              "      <td>NBA</td>\n",
              "      <td>0</td>\n",
              "      <td>1947</td>\n",
              "      <td>11/1/1946</td>\n",
              "      <td>1</td>\n",
              "      <td>0</td>\n",
              "      <td>TRH</td>\n",
              "      <td>Huskies</td>\n",
              "      <td>66</td>\n",
              "      <td>1300.0000</td>\n",
              "      <td>1293.2767</td>\n",
              "      <td>40.294830</td>\n",
              "      <td>NYK</td>\n",
              "      <td>Knicks</td>\n",
              "      <td>68</td>\n",
              "      <td>1300.0000</td>\n",
              "      <td>1306.7233</td>\n",
              "      <td>H</td>\n",
              "      <td>L</td>\n",
              "      <td>0.640065</td>\n",
              "      <td>NaN</td>\n",
              "    </tr>\n",
              "    <tr>\n",
              "      <th>1</th>\n",
              "      <td>1</td>\n",
              "      <td>194611010TRH</td>\n",
              "      <td>NBA</td>\n",
              "      <td>1</td>\n",
              "      <td>1947</td>\n",
              "      <td>11/1/1946</td>\n",
              "      <td>1</td>\n",
              "      <td>0</td>\n",
              "      <td>NYK</td>\n",
              "      <td>Knicks</td>\n",
              "      <td>68</td>\n",
              "      <td>1300.0000</td>\n",
              "      <td>1306.7233</td>\n",
              "      <td>41.705170</td>\n",
              "      <td>TRH</td>\n",
              "      <td>Huskies</td>\n",
              "      <td>66</td>\n",
              "      <td>1300.0000</td>\n",
              "      <td>1293.2767</td>\n",
              "      <td>A</td>\n",
              "      <td>W</td>\n",
              "      <td>0.359935</td>\n",
              "      <td>NaN</td>\n",
              "    </tr>\n",
              "    <tr>\n",
              "      <th>2</th>\n",
              "      <td>2</td>\n",
              "      <td>194611020CHS</td>\n",
              "      <td>NBA</td>\n",
              "      <td>0</td>\n",
              "      <td>1947</td>\n",
              "      <td>11/2/1946</td>\n",
              "      <td>1</td>\n",
              "      <td>0</td>\n",
              "      <td>CHS</td>\n",
              "      <td>Stags</td>\n",
              "      <td>63</td>\n",
              "      <td>1300.0000</td>\n",
              "      <td>1309.6521</td>\n",
              "      <td>42.012257</td>\n",
              "      <td>NYK</td>\n",
              "      <td>Knicks</td>\n",
              "      <td>47</td>\n",
              "      <td>1306.7233</td>\n",
              "      <td>1297.0712</td>\n",
              "      <td>H</td>\n",
              "      <td>W</td>\n",
              "      <td>0.631101</td>\n",
              "      <td>NaN</td>\n",
              "    </tr>\n",
              "    <tr>\n",
              "      <th>3</th>\n",
              "      <td>2</td>\n",
              "      <td>194611020CHS</td>\n",
              "      <td>NBA</td>\n",
              "      <td>1</td>\n",
              "      <td>1947</td>\n",
              "      <td>11/2/1946</td>\n",
              "      <td>2</td>\n",
              "      <td>0</td>\n",
              "      <td>NYK</td>\n",
              "      <td>Knicks</td>\n",
              "      <td>47</td>\n",
              "      <td>1306.7233</td>\n",
              "      <td>1297.0712</td>\n",
              "      <td>40.692783</td>\n",
              "      <td>CHS</td>\n",
              "      <td>Stags</td>\n",
              "      <td>63</td>\n",
              "      <td>1300.0000</td>\n",
              "      <td>1309.6521</td>\n",
              "      <td>A</td>\n",
              "      <td>L</td>\n",
              "      <td>0.368899</td>\n",
              "      <td>NaN</td>\n",
              "    </tr>\n",
              "    <tr>\n",
              "      <th>4</th>\n",
              "      <td>3</td>\n",
              "      <td>194611020DTF</td>\n",
              "      <td>NBA</td>\n",
              "      <td>0</td>\n",
              "      <td>1947</td>\n",
              "      <td>11/2/1946</td>\n",
              "      <td>1</td>\n",
              "      <td>0</td>\n",
              "      <td>DTF</td>\n",
              "      <td>Falcons</td>\n",
              "      <td>33</td>\n",
              "      <td>1300.0000</td>\n",
              "      <td>1279.6189</td>\n",
              "      <td>38.864048</td>\n",
              "      <td>WSC</td>\n",
              "      <td>Capitols</td>\n",
              "      <td>50</td>\n",
              "      <td>1300.0000</td>\n",
              "      <td>1320.3811</td>\n",
              "      <td>H</td>\n",
              "      <td>L</td>\n",
              "      <td>0.640065</td>\n",
              "      <td>NaN</td>\n",
              "    </tr>\n",
              "  </tbody>\n",
              "</table>\n",
              "</div>"
            ],
            "text/plain": [
              "   gameorder       game_id lg_id  ...  game_result  forecast notes\n",
              "0          1  194611010TRH   NBA  ...            L  0.640065   NaN\n",
              "1          1  194611010TRH   NBA  ...            W  0.359935   NaN\n",
              "2          2  194611020CHS   NBA  ...            W  0.631101   NaN\n",
              "3          2  194611020CHS   NBA  ...            L  0.368899   NaN\n",
              "4          3  194611020DTF   NBA  ...            L  0.640065   NaN\n",
              "\n",
              "[5 rows x 23 columns]"
            ]
          },
          "metadata": {
            "tags": []
          },
          "execution_count": 8
        }
      ]
    },
    {
      "cell_type": "code",
      "metadata": {
        "id": "iKv_wYQbG18o"
      },
      "source": [
        "assert df1.equals(df2)"
      ],
      "execution_count": 9,
      "outputs": []
    },
    {
      "cell_type": "code",
      "metadata": {
        "id": "2s3kyY1GG18o",
        "colab": {
          "base_uri": "https://localhost:8080/",
          "height": 215
        },
        "outputId": "acfc0646-3dba-478d-d045-ea36cc17f336"
      },
      "source": [
        "df1.head(5)"
      ],
      "execution_count": 10,
      "outputs": [
        {
          "output_type": "execute_result",
          "data": {
            "text/html": [
              "<div>\n",
              "<style scoped>\n",
              "    .dataframe tbody tr th:only-of-type {\n",
              "        vertical-align: middle;\n",
              "    }\n",
              "\n",
              "    .dataframe tbody tr th {\n",
              "        vertical-align: top;\n",
              "    }\n",
              "\n",
              "    .dataframe thead th {\n",
              "        text-align: right;\n",
              "    }\n",
              "</style>\n",
              "<table border=\"1\" class=\"dataframe\">\n",
              "  <thead>\n",
              "    <tr style=\"text-align: right;\">\n",
              "      <th></th>\n",
              "      <th>gameorder</th>\n",
              "      <th>game_id</th>\n",
              "      <th>lg_id</th>\n",
              "      <th>_iscopy</th>\n",
              "      <th>year_id</th>\n",
              "      <th>date_game</th>\n",
              "      <th>seasongame</th>\n",
              "      <th>is_playoffs</th>\n",
              "      <th>team_id</th>\n",
              "      <th>fran_id</th>\n",
              "      <th>pts</th>\n",
              "      <th>elo_i</th>\n",
              "      <th>elo_n</th>\n",
              "      <th>win_equiv</th>\n",
              "      <th>opp_id</th>\n",
              "      <th>opp_fran</th>\n",
              "      <th>opp_pts</th>\n",
              "      <th>opp_elo_i</th>\n",
              "      <th>opp_elo_n</th>\n",
              "      <th>game_location</th>\n",
              "      <th>game_result</th>\n",
              "      <th>forecast</th>\n",
              "      <th>notes</th>\n",
              "    </tr>\n",
              "  </thead>\n",
              "  <tbody>\n",
              "    <tr>\n",
              "      <th>0</th>\n",
              "      <td>1</td>\n",
              "      <td>194611010TRH</td>\n",
              "      <td>NBA</td>\n",
              "      <td>0</td>\n",
              "      <td>1947</td>\n",
              "      <td>11/1/1946</td>\n",
              "      <td>1</td>\n",
              "      <td>0</td>\n",
              "      <td>TRH</td>\n",
              "      <td>Huskies</td>\n",
              "      <td>66</td>\n",
              "      <td>1300.0000</td>\n",
              "      <td>1293.2767</td>\n",
              "      <td>40.294830</td>\n",
              "      <td>NYK</td>\n",
              "      <td>Knicks</td>\n",
              "      <td>68</td>\n",
              "      <td>1300.0000</td>\n",
              "      <td>1306.7233</td>\n",
              "      <td>H</td>\n",
              "      <td>L</td>\n",
              "      <td>0.640065</td>\n",
              "      <td>NaN</td>\n",
              "    </tr>\n",
              "    <tr>\n",
              "      <th>1</th>\n",
              "      <td>1</td>\n",
              "      <td>194611010TRH</td>\n",
              "      <td>NBA</td>\n",
              "      <td>1</td>\n",
              "      <td>1947</td>\n",
              "      <td>11/1/1946</td>\n",
              "      <td>1</td>\n",
              "      <td>0</td>\n",
              "      <td>NYK</td>\n",
              "      <td>Knicks</td>\n",
              "      <td>68</td>\n",
              "      <td>1300.0000</td>\n",
              "      <td>1306.7233</td>\n",
              "      <td>41.705170</td>\n",
              "      <td>TRH</td>\n",
              "      <td>Huskies</td>\n",
              "      <td>66</td>\n",
              "      <td>1300.0000</td>\n",
              "      <td>1293.2767</td>\n",
              "      <td>A</td>\n",
              "      <td>W</td>\n",
              "      <td>0.359935</td>\n",
              "      <td>NaN</td>\n",
              "    </tr>\n",
              "    <tr>\n",
              "      <th>2</th>\n",
              "      <td>2</td>\n",
              "      <td>194611020CHS</td>\n",
              "      <td>NBA</td>\n",
              "      <td>0</td>\n",
              "      <td>1947</td>\n",
              "      <td>11/2/1946</td>\n",
              "      <td>1</td>\n",
              "      <td>0</td>\n",
              "      <td>CHS</td>\n",
              "      <td>Stags</td>\n",
              "      <td>63</td>\n",
              "      <td>1300.0000</td>\n",
              "      <td>1309.6521</td>\n",
              "      <td>42.012257</td>\n",
              "      <td>NYK</td>\n",
              "      <td>Knicks</td>\n",
              "      <td>47</td>\n",
              "      <td>1306.7233</td>\n",
              "      <td>1297.0712</td>\n",
              "      <td>H</td>\n",
              "      <td>W</td>\n",
              "      <td>0.631101</td>\n",
              "      <td>NaN</td>\n",
              "    </tr>\n",
              "    <tr>\n",
              "      <th>3</th>\n",
              "      <td>2</td>\n",
              "      <td>194611020CHS</td>\n",
              "      <td>NBA</td>\n",
              "      <td>1</td>\n",
              "      <td>1947</td>\n",
              "      <td>11/2/1946</td>\n",
              "      <td>2</td>\n",
              "      <td>0</td>\n",
              "      <td>NYK</td>\n",
              "      <td>Knicks</td>\n",
              "      <td>47</td>\n",
              "      <td>1306.7233</td>\n",
              "      <td>1297.0712</td>\n",
              "      <td>40.692783</td>\n",
              "      <td>CHS</td>\n",
              "      <td>Stags</td>\n",
              "      <td>63</td>\n",
              "      <td>1300.0000</td>\n",
              "      <td>1309.6521</td>\n",
              "      <td>A</td>\n",
              "      <td>L</td>\n",
              "      <td>0.368899</td>\n",
              "      <td>NaN</td>\n",
              "    </tr>\n",
              "    <tr>\n",
              "      <th>4</th>\n",
              "      <td>3</td>\n",
              "      <td>194611020DTF</td>\n",
              "      <td>NBA</td>\n",
              "      <td>0</td>\n",
              "      <td>1947</td>\n",
              "      <td>11/2/1946</td>\n",
              "      <td>1</td>\n",
              "      <td>0</td>\n",
              "      <td>DTF</td>\n",
              "      <td>Falcons</td>\n",
              "      <td>33</td>\n",
              "      <td>1300.0000</td>\n",
              "      <td>1279.6189</td>\n",
              "      <td>38.864048</td>\n",
              "      <td>WSC</td>\n",
              "      <td>Capitols</td>\n",
              "      <td>50</td>\n",
              "      <td>1300.0000</td>\n",
              "      <td>1320.3811</td>\n",
              "      <td>H</td>\n",
              "      <td>L</td>\n",
              "      <td>0.640065</td>\n",
              "      <td>NaN</td>\n",
              "    </tr>\n",
              "  </tbody>\n",
              "</table>\n",
              "</div>"
            ],
            "text/plain": [
              "   gameorder       game_id lg_id  ...  game_result  forecast notes\n",
              "0          1  194611010TRH   NBA  ...            L  0.640065   NaN\n",
              "1          1  194611010TRH   NBA  ...            W  0.359935   NaN\n",
              "2          2  194611020CHS   NBA  ...            W  0.631101   NaN\n",
              "3          2  194611020CHS   NBA  ...            L  0.368899   NaN\n",
              "4          3  194611020DTF   NBA  ...            L  0.640065   NaN\n",
              "\n",
              "[5 rows x 23 columns]"
            ]
          },
          "metadata": {
            "tags": []
          },
          "execution_count": 10
        }
      ]
    },
    {
      "cell_type": "markdown",
      "metadata": {
        "id": "KAqVuTebG18p"
      },
      "source": [
        "When a dataframe has too many rows to fit the page, it's often convenient to `transpose` the dataframe with `.T`. Try it!"
      ]
    },
    {
      "cell_type": "code",
      "metadata": {
        "id": "kfCFbK2yG18p",
        "colab": {
          "base_uri": "https://localhost:8080/",
          "height": 728
        },
        "outputId": "c22e6450-a5c7-4e4b-d416-1a72739b5044"
      },
      "source": [
        "df1.head().T"
      ],
      "execution_count": 11,
      "outputs": [
        {
          "output_type": "execute_result",
          "data": {
            "text/html": [
              "<div>\n",
              "<style scoped>\n",
              "    .dataframe tbody tr th:only-of-type {\n",
              "        vertical-align: middle;\n",
              "    }\n",
              "\n",
              "    .dataframe tbody tr th {\n",
              "        vertical-align: top;\n",
              "    }\n",
              "\n",
              "    .dataframe thead th {\n",
              "        text-align: right;\n",
              "    }\n",
              "</style>\n",
              "<table border=\"1\" class=\"dataframe\">\n",
              "  <thead>\n",
              "    <tr style=\"text-align: right;\">\n",
              "      <th></th>\n",
              "      <th>0</th>\n",
              "      <th>1</th>\n",
              "      <th>2</th>\n",
              "      <th>3</th>\n",
              "      <th>4</th>\n",
              "    </tr>\n",
              "  </thead>\n",
              "  <tbody>\n",
              "    <tr>\n",
              "      <th>gameorder</th>\n",
              "      <td>1</td>\n",
              "      <td>1</td>\n",
              "      <td>2</td>\n",
              "      <td>2</td>\n",
              "      <td>3</td>\n",
              "    </tr>\n",
              "    <tr>\n",
              "      <th>game_id</th>\n",
              "      <td>194611010TRH</td>\n",
              "      <td>194611010TRH</td>\n",
              "      <td>194611020CHS</td>\n",
              "      <td>194611020CHS</td>\n",
              "      <td>194611020DTF</td>\n",
              "    </tr>\n",
              "    <tr>\n",
              "      <th>lg_id</th>\n",
              "      <td>NBA</td>\n",
              "      <td>NBA</td>\n",
              "      <td>NBA</td>\n",
              "      <td>NBA</td>\n",
              "      <td>NBA</td>\n",
              "    </tr>\n",
              "    <tr>\n",
              "      <th>_iscopy</th>\n",
              "      <td>0</td>\n",
              "      <td>1</td>\n",
              "      <td>0</td>\n",
              "      <td>1</td>\n",
              "      <td>0</td>\n",
              "    </tr>\n",
              "    <tr>\n",
              "      <th>year_id</th>\n",
              "      <td>1947</td>\n",
              "      <td>1947</td>\n",
              "      <td>1947</td>\n",
              "      <td>1947</td>\n",
              "      <td>1947</td>\n",
              "    </tr>\n",
              "    <tr>\n",
              "      <th>date_game</th>\n",
              "      <td>11/1/1946</td>\n",
              "      <td>11/1/1946</td>\n",
              "      <td>11/2/1946</td>\n",
              "      <td>11/2/1946</td>\n",
              "      <td>11/2/1946</td>\n",
              "    </tr>\n",
              "    <tr>\n",
              "      <th>seasongame</th>\n",
              "      <td>1</td>\n",
              "      <td>1</td>\n",
              "      <td>1</td>\n",
              "      <td>2</td>\n",
              "      <td>1</td>\n",
              "    </tr>\n",
              "    <tr>\n",
              "      <th>is_playoffs</th>\n",
              "      <td>0</td>\n",
              "      <td>0</td>\n",
              "      <td>0</td>\n",
              "      <td>0</td>\n",
              "      <td>0</td>\n",
              "    </tr>\n",
              "    <tr>\n",
              "      <th>team_id</th>\n",
              "      <td>TRH</td>\n",
              "      <td>NYK</td>\n",
              "      <td>CHS</td>\n",
              "      <td>NYK</td>\n",
              "      <td>DTF</td>\n",
              "    </tr>\n",
              "    <tr>\n",
              "      <th>fran_id</th>\n",
              "      <td>Huskies</td>\n",
              "      <td>Knicks</td>\n",
              "      <td>Stags</td>\n",
              "      <td>Knicks</td>\n",
              "      <td>Falcons</td>\n",
              "    </tr>\n",
              "    <tr>\n",
              "      <th>pts</th>\n",
              "      <td>66</td>\n",
              "      <td>68</td>\n",
              "      <td>63</td>\n",
              "      <td>47</td>\n",
              "      <td>33</td>\n",
              "    </tr>\n",
              "    <tr>\n",
              "      <th>elo_i</th>\n",
              "      <td>1300</td>\n",
              "      <td>1300</td>\n",
              "      <td>1300</td>\n",
              "      <td>1306.72</td>\n",
              "      <td>1300</td>\n",
              "    </tr>\n",
              "    <tr>\n",
              "      <th>elo_n</th>\n",
              "      <td>1293.28</td>\n",
              "      <td>1306.72</td>\n",
              "      <td>1309.65</td>\n",
              "      <td>1297.07</td>\n",
              "      <td>1279.62</td>\n",
              "    </tr>\n",
              "    <tr>\n",
              "      <th>win_equiv</th>\n",
              "      <td>40.2948</td>\n",
              "      <td>41.7052</td>\n",
              "      <td>42.0123</td>\n",
              "      <td>40.6928</td>\n",
              "      <td>38.864</td>\n",
              "    </tr>\n",
              "    <tr>\n",
              "      <th>opp_id</th>\n",
              "      <td>NYK</td>\n",
              "      <td>TRH</td>\n",
              "      <td>NYK</td>\n",
              "      <td>CHS</td>\n",
              "      <td>WSC</td>\n",
              "    </tr>\n",
              "    <tr>\n",
              "      <th>opp_fran</th>\n",
              "      <td>Knicks</td>\n",
              "      <td>Huskies</td>\n",
              "      <td>Knicks</td>\n",
              "      <td>Stags</td>\n",
              "      <td>Capitols</td>\n",
              "    </tr>\n",
              "    <tr>\n",
              "      <th>opp_pts</th>\n",
              "      <td>68</td>\n",
              "      <td>66</td>\n",
              "      <td>47</td>\n",
              "      <td>63</td>\n",
              "      <td>50</td>\n",
              "    </tr>\n",
              "    <tr>\n",
              "      <th>opp_elo_i</th>\n",
              "      <td>1300</td>\n",
              "      <td>1300</td>\n",
              "      <td>1306.72</td>\n",
              "      <td>1300</td>\n",
              "      <td>1300</td>\n",
              "    </tr>\n",
              "    <tr>\n",
              "      <th>opp_elo_n</th>\n",
              "      <td>1306.72</td>\n",
              "      <td>1293.28</td>\n",
              "      <td>1297.07</td>\n",
              "      <td>1309.65</td>\n",
              "      <td>1320.38</td>\n",
              "    </tr>\n",
              "    <tr>\n",
              "      <th>game_location</th>\n",
              "      <td>H</td>\n",
              "      <td>A</td>\n",
              "      <td>H</td>\n",
              "      <td>A</td>\n",
              "      <td>H</td>\n",
              "    </tr>\n",
              "    <tr>\n",
              "      <th>game_result</th>\n",
              "      <td>L</td>\n",
              "      <td>W</td>\n",
              "      <td>W</td>\n",
              "      <td>L</td>\n",
              "      <td>L</td>\n",
              "    </tr>\n",
              "    <tr>\n",
              "      <th>forecast</th>\n",
              "      <td>0.640065</td>\n",
              "      <td>0.359935</td>\n",
              "      <td>0.631101</td>\n",
              "      <td>0.368899</td>\n",
              "      <td>0.640065</td>\n",
              "    </tr>\n",
              "    <tr>\n",
              "      <th>notes</th>\n",
              "      <td>NaN</td>\n",
              "      <td>NaN</td>\n",
              "      <td>NaN</td>\n",
              "      <td>NaN</td>\n",
              "      <td>NaN</td>\n",
              "    </tr>\n",
              "  </tbody>\n",
              "</table>\n",
              "</div>"
            ],
            "text/plain": [
              "                          0             1  ...             3             4\n",
              "gameorder                 1             1  ...             2             3\n",
              "game_id        194611010TRH  194611010TRH  ...  194611020CHS  194611020DTF\n",
              "lg_id                   NBA           NBA  ...           NBA           NBA\n",
              "_iscopy                   0             1  ...             1             0\n",
              "year_id                1947          1947  ...          1947          1947\n",
              "date_game         11/1/1946     11/1/1946  ...     11/2/1946     11/2/1946\n",
              "seasongame                1             1  ...             2             1\n",
              "is_playoffs               0             0  ...             0             0\n",
              "team_id                 TRH           NYK  ...           NYK           DTF\n",
              "fran_id             Huskies        Knicks  ...        Knicks       Falcons\n",
              "pts                      66            68  ...            47            33\n",
              "elo_i                  1300          1300  ...       1306.72          1300\n",
              "elo_n               1293.28       1306.72  ...       1297.07       1279.62\n",
              "win_equiv           40.2948       41.7052  ...       40.6928        38.864\n",
              "opp_id                  NYK           TRH  ...           CHS           WSC\n",
              "opp_fran             Knicks       Huskies  ...         Stags      Capitols\n",
              "opp_pts                  68            66  ...            63            50\n",
              "opp_elo_i              1300          1300  ...          1300          1300\n",
              "opp_elo_n           1306.72       1293.28  ...       1309.65       1320.38\n",
              "game_location             H             A  ...             A             H\n",
              "game_result               L             W  ...             L             L\n",
              "forecast           0.640065      0.359935  ...      0.368899      0.640065\n",
              "notes                   NaN           NaN  ...           NaN           NaN\n",
              "\n",
              "[23 rows x 5 columns]"
            ]
          },
          "metadata": {
            "tags": []
          },
          "execution_count": 11
        }
      ]
    },
    {
      "cell_type": "markdown",
      "metadata": {
        "id": "Yzv6mnWvG18p"
      },
      "source": [
        "## Basic Pandas functions for EDA"
      ]
    },
    {
      "cell_type": "markdown",
      "metadata": {
        "id": "uDL0c9EaG18p"
      },
      "source": [
        "You don't have to be all fancy and smart to perform basic EDA. Most of EDA features several basic operations, and Pandas the process accessible."
      ]
    },
    {
      "cell_type": "markdown",
      "metadata": {
        "id": "u0ck-Y-NG18p"
      },
      "source": [
        "## Basic descriptive statistics"
      ]
    },
    {
      "cell_type": "markdown",
      "metadata": {
        "id": "Plq5B0vXG18q"
      },
      "source": [
        "[Mean](https://pandas.pydata.org/pandas-docs/stable/reference/api/pandas.DataFrame.mean.html) value, [Median](https://pandas.pydata.org/pandas-docs/stable/reference/api/pandas.DataFrame.median.html) value, [standard deviation](https://pandas.pydata.org/pandas-docs/stable/reference/api/pandas.DataFrame.std.html), [minimum](https://pandas.pydata.org/pandas-docs/stable/reference/api/pandas.DataFrame.min.html), [maximum](https://pandas.pydata.org/pandas-docs/stable/reference/api/pandas.DataFrame.max.html) values, [quantiles](https://pandas.pydata.org/pandas-docs/stable/reference/api/pandas.DataFrame.quantile.html). These are the data properties you should explore first."
      ]
    },
    {
      "cell_type": "markdown",
      "metadata": {
        "id": "aMLl04jiG18q"
      },
      "source": [
        "### Exercise - exploring the scores"
      ]
    },
    {
      "cell_type": "markdown",
      "metadata": {
        "id": "xuk5vPkPG18q"
      },
      "source": [
        "Calculate the mean `avg_pts`, `median_pts`, minimum `min_pts` and maximum `max_pts` values of points scored by NBA players using the dataset loaded before. To make things spicy, calculate quantiles at every 5% `quantiles`. How does the distribution look like? Why?"
      ]
    },
    {
      "cell_type": "code",
      "metadata": {
        "colab": {
          "base_uri": "https://localhost:8080/",
          "height": 215
        },
        "id": "nK8BzU72CHKQ",
        "outputId": "81fdab7e-eeb3-41e6-f25d-6003428128dc"
      },
      "source": [
        "df1.head()"
      ],
      "execution_count": 13,
      "outputs": [
        {
          "output_type": "execute_result",
          "data": {
            "text/html": [
              "<div>\n",
              "<style scoped>\n",
              "    .dataframe tbody tr th:only-of-type {\n",
              "        vertical-align: middle;\n",
              "    }\n",
              "\n",
              "    .dataframe tbody tr th {\n",
              "        vertical-align: top;\n",
              "    }\n",
              "\n",
              "    .dataframe thead th {\n",
              "        text-align: right;\n",
              "    }\n",
              "</style>\n",
              "<table border=\"1\" class=\"dataframe\">\n",
              "  <thead>\n",
              "    <tr style=\"text-align: right;\">\n",
              "      <th></th>\n",
              "      <th>gameorder</th>\n",
              "      <th>game_id</th>\n",
              "      <th>lg_id</th>\n",
              "      <th>_iscopy</th>\n",
              "      <th>year_id</th>\n",
              "      <th>date_game</th>\n",
              "      <th>seasongame</th>\n",
              "      <th>is_playoffs</th>\n",
              "      <th>team_id</th>\n",
              "      <th>fran_id</th>\n",
              "      <th>pts</th>\n",
              "      <th>elo_i</th>\n",
              "      <th>elo_n</th>\n",
              "      <th>win_equiv</th>\n",
              "      <th>opp_id</th>\n",
              "      <th>opp_fran</th>\n",
              "      <th>opp_pts</th>\n",
              "      <th>opp_elo_i</th>\n",
              "      <th>opp_elo_n</th>\n",
              "      <th>game_location</th>\n",
              "      <th>game_result</th>\n",
              "      <th>forecast</th>\n",
              "      <th>notes</th>\n",
              "    </tr>\n",
              "  </thead>\n",
              "  <tbody>\n",
              "    <tr>\n",
              "      <th>0</th>\n",
              "      <td>1</td>\n",
              "      <td>194611010TRH</td>\n",
              "      <td>NBA</td>\n",
              "      <td>0</td>\n",
              "      <td>1947</td>\n",
              "      <td>11/1/1946</td>\n",
              "      <td>1</td>\n",
              "      <td>0</td>\n",
              "      <td>TRH</td>\n",
              "      <td>Huskies</td>\n",
              "      <td>66</td>\n",
              "      <td>1300.0000</td>\n",
              "      <td>1293.2767</td>\n",
              "      <td>40.294830</td>\n",
              "      <td>NYK</td>\n",
              "      <td>Knicks</td>\n",
              "      <td>68</td>\n",
              "      <td>1300.0000</td>\n",
              "      <td>1306.7233</td>\n",
              "      <td>H</td>\n",
              "      <td>L</td>\n",
              "      <td>0.640065</td>\n",
              "      <td>NaN</td>\n",
              "    </tr>\n",
              "    <tr>\n",
              "      <th>1</th>\n",
              "      <td>1</td>\n",
              "      <td>194611010TRH</td>\n",
              "      <td>NBA</td>\n",
              "      <td>1</td>\n",
              "      <td>1947</td>\n",
              "      <td>11/1/1946</td>\n",
              "      <td>1</td>\n",
              "      <td>0</td>\n",
              "      <td>NYK</td>\n",
              "      <td>Knicks</td>\n",
              "      <td>68</td>\n",
              "      <td>1300.0000</td>\n",
              "      <td>1306.7233</td>\n",
              "      <td>41.705170</td>\n",
              "      <td>TRH</td>\n",
              "      <td>Huskies</td>\n",
              "      <td>66</td>\n",
              "      <td>1300.0000</td>\n",
              "      <td>1293.2767</td>\n",
              "      <td>A</td>\n",
              "      <td>W</td>\n",
              "      <td>0.359935</td>\n",
              "      <td>NaN</td>\n",
              "    </tr>\n",
              "    <tr>\n",
              "      <th>2</th>\n",
              "      <td>2</td>\n",
              "      <td>194611020CHS</td>\n",
              "      <td>NBA</td>\n",
              "      <td>0</td>\n",
              "      <td>1947</td>\n",
              "      <td>11/2/1946</td>\n",
              "      <td>1</td>\n",
              "      <td>0</td>\n",
              "      <td>CHS</td>\n",
              "      <td>Stags</td>\n",
              "      <td>63</td>\n",
              "      <td>1300.0000</td>\n",
              "      <td>1309.6521</td>\n",
              "      <td>42.012257</td>\n",
              "      <td>NYK</td>\n",
              "      <td>Knicks</td>\n",
              "      <td>47</td>\n",
              "      <td>1306.7233</td>\n",
              "      <td>1297.0712</td>\n",
              "      <td>H</td>\n",
              "      <td>W</td>\n",
              "      <td>0.631101</td>\n",
              "      <td>NaN</td>\n",
              "    </tr>\n",
              "    <tr>\n",
              "      <th>3</th>\n",
              "      <td>2</td>\n",
              "      <td>194611020CHS</td>\n",
              "      <td>NBA</td>\n",
              "      <td>1</td>\n",
              "      <td>1947</td>\n",
              "      <td>11/2/1946</td>\n",
              "      <td>2</td>\n",
              "      <td>0</td>\n",
              "      <td>NYK</td>\n",
              "      <td>Knicks</td>\n",
              "      <td>47</td>\n",
              "      <td>1306.7233</td>\n",
              "      <td>1297.0712</td>\n",
              "      <td>40.692783</td>\n",
              "      <td>CHS</td>\n",
              "      <td>Stags</td>\n",
              "      <td>63</td>\n",
              "      <td>1300.0000</td>\n",
              "      <td>1309.6521</td>\n",
              "      <td>A</td>\n",
              "      <td>L</td>\n",
              "      <td>0.368899</td>\n",
              "      <td>NaN</td>\n",
              "    </tr>\n",
              "    <tr>\n",
              "      <th>4</th>\n",
              "      <td>3</td>\n",
              "      <td>194611020DTF</td>\n",
              "      <td>NBA</td>\n",
              "      <td>0</td>\n",
              "      <td>1947</td>\n",
              "      <td>11/2/1946</td>\n",
              "      <td>1</td>\n",
              "      <td>0</td>\n",
              "      <td>DTF</td>\n",
              "      <td>Falcons</td>\n",
              "      <td>33</td>\n",
              "      <td>1300.0000</td>\n",
              "      <td>1279.6189</td>\n",
              "      <td>38.864048</td>\n",
              "      <td>WSC</td>\n",
              "      <td>Capitols</td>\n",
              "      <td>50</td>\n",
              "      <td>1300.0000</td>\n",
              "      <td>1320.3811</td>\n",
              "      <td>H</td>\n",
              "      <td>L</td>\n",
              "      <td>0.640065</td>\n",
              "      <td>NaN</td>\n",
              "    </tr>\n",
              "  </tbody>\n",
              "</table>\n",
              "</div>"
            ],
            "text/plain": [
              "   gameorder       game_id lg_id  ...  game_result  forecast notes\n",
              "0          1  194611010TRH   NBA  ...            L  0.640065   NaN\n",
              "1          1  194611010TRH   NBA  ...            W  0.359935   NaN\n",
              "2          2  194611020CHS   NBA  ...            W  0.631101   NaN\n",
              "3          2  194611020CHS   NBA  ...            L  0.368899   NaN\n",
              "4          3  194611020DTF   NBA  ...            L  0.640065   NaN\n",
              "\n",
              "[5 rows x 23 columns]"
            ]
          },
          "metadata": {
            "tags": []
          },
          "execution_count": 13
        }
      ]
    },
    {
      "cell_type": "code",
      "metadata": {
        "id": "vq_U15gdCqn9"
      },
      "source": [
        "avg_pts = df1['pts'].mean()"
      ],
      "execution_count": 4,
      "outputs": []
    },
    {
      "cell_type": "code",
      "metadata": {
        "colab": {
          "base_uri": "https://localhost:8080/"
        },
        "id": "We5-OjBe88z6",
        "outputId": "ffbb7719-4b4b-4be4-b4e8-f4479dd8f6f5"
      },
      "source": [
        "df1['pts'].std()"
      ],
      "execution_count": 9,
      "outputs": [
        {
          "output_type": "execute_result",
          "data": {
            "text/plain": [
              "14.81484465438546"
            ]
          },
          "metadata": {
            "tags": []
          },
          "execution_count": 9
        }
      ]
    },
    {
      "cell_type": "code",
      "metadata": {
        "id": "G77S9btSDKrq"
      },
      "source": [
        "median_pts = df1['pts'].median()"
      ],
      "execution_count": 5,
      "outputs": []
    },
    {
      "cell_type": "code",
      "metadata": {
        "colab": {
          "base_uri": "https://localhost:8080/"
        },
        "id": "h0AvF8EBDURc",
        "outputId": "8cb01d71-faa1-40ec-f299-0e0318883ded"
      },
      "source": [
        "min_pts = df1['pts'].min()\r\n",
        "max_pts = df1['pts'].max()\r\n",
        "print('min {}, max {}'.format(min_pts, max_pts))"
      ],
      "execution_count": 6,
      "outputs": [
        {
          "output_type": "stream",
          "text": [
            "min 0, max 186\n"
          ],
          "name": "stdout"
        }
      ]
    },
    {
      "cell_type": "code",
      "metadata": {
        "colab": {
          "base_uri": "https://localhost:8080/"
        },
        "id": "iFh7LflvDvpS",
        "outputId": "d8114483-3271-4a06-dd5a-2a691c488654"
      },
      "source": [
        "import numpy as np\r\n",
        "bins = np.arange(0, 1, 0.05, dtype=float)\r\n",
        "quantiles = df1['pts'].quantile(bins)\r\n",
        "quantiles"
      ],
      "execution_count": 7,
      "outputs": [
        {
          "output_type": "execute_result",
          "data": {
            "text/plain": [
              "0.00      0.0\n",
              "0.05     79.0\n",
              "0.10     84.0\n",
              "0.15     88.0\n",
              "0.20     91.0\n",
              "0.25     93.0\n",
              "0.30     95.0\n",
              "0.35     97.0\n",
              "0.40     99.0\n",
              "0.45    101.0\n",
              "0.50    103.0\n",
              "0.55    104.0\n",
              "0.60    106.0\n",
              "0.65    108.0\n",
              "0.70    110.0\n",
              "0.75    112.0\n",
              "0.80    115.0\n",
              "0.85    118.0\n",
              "0.90    122.0\n",
              "0.95    127.0\n",
              "Name: pts, dtype: float64"
            ]
          },
          "metadata": {
            "tags": []
          },
          "execution_count": 7
        }
      ]
    },
    {
      "cell_type": "markdown",
      "metadata": {
        "id": "IpOM-kzE8BsY"
      },
      "source": [
        "From the 5 % quantiles we see that only 5 % of played matches fall in first quantile, which marks 0 - 79 scred points per match. It is expected as scoring is higher and we see that average scoring is appr 103 scores per match. The closer we get to average score, the quantile intervales are shorter. It looks like normal bell shape distribution."
      ]
    },
    {
      "cell_type": "code",
      "metadata": {
        "id": "CFlHTs9BG18q"
      },
      "source": [
        "import numpy as np\n",
        "\n",
        "assert round(avg_pts, 1) == 102.7\n",
        "assert round(median_pts, 1) == 103\n",
        "np.testing.assert_array_almost_equal(quantiles,  \n",
        "  [0.0,\n",
        "  79.0,\n",
        "  84.0,\n",
        "  88.0,\n",
        "  91.0,\n",
        "  93.0,\n",
        "  95.0,\n",
        "  97.0,\n",
        "  99.0,\n",
        "  101.0,\n",
        "  103.0,\n",
        "  104.0,\n",
        "  106.0,\n",
        "  108.0,\n",
        "  110.0,\n",
        "  112.0,\n",
        "  115.0,\n",
        "  118.0,\n",
        "  122.0,\n",
        "  127.0])\n",
        "assert round(max_pts, 2) == 186\n",
        "assert round(min_pts, 2) == 0"
      ],
      "execution_count": 8,
      "outputs": []
    },
    {
      "cell_type": "markdown",
      "metadata": {
        "id": "fsG3FEUzG18q"
      },
      "source": [
        "## Grouping, Aggregations"
      ]
    },
    {
      "cell_type": "markdown",
      "metadata": {
        "id": "6RcpD6cnG18r"
      },
      "source": [
        "Read this [tutorial](https://jakevdp.github.io/PythonDataScienceHandbook/03.08-aggregation-and-grouping.html#GroupBy:-Split,-Apply,-Combine) from Data Science Handbook to get familiar with the philosophy of groupby and the API of grouping in Pandas."
      ]
    },
    {
      "cell_type": "markdown",
      "metadata": {
        "id": "YD6nS2msG18r"
      },
      "source": [
        "### Exercise - slice and measure"
      ]
    },
    {
      "cell_type": "markdown",
      "metadata": {
        "id": "l-kEXK0VG18r"
      },
      "source": [
        "Global statistics are biased - not all teams score 100 points per game, some teams performs above average.\n",
        "\n",
        "Find 5 teams (by fran_id) with most average points scored per game. Save as `five_best_teams`."
      ]
    },
    {
      "cell_type": "code",
      "metadata": {
        "colab": {
          "base_uri": "https://localhost:8080/",
          "height": 225
        },
        "id": "pmFkx4CCNDWN",
        "outputId": "9a318591-105e-4cf1-f18c-ec24e0c46273"
      },
      "source": [
        "grouped = df1.groupby('fran_id').agg({'pts':np.mean})\r\n",
        "five_best_teams = grouped.sort_values(by = ['pts'], ascending = False).head()\r\n",
        "five_best_teams"
      ],
      "execution_count": 47,
      "outputs": [
        {
          "output_type": "execute_result",
          "data": {
            "text/html": [
              "<div>\n",
              "<style scoped>\n",
              "    .dataframe tbody tr th:only-of-type {\n",
              "        vertical-align: middle;\n",
              "    }\n",
              "\n",
              "    .dataframe tbody tr th {\n",
              "        vertical-align: top;\n",
              "    }\n",
              "\n",
              "    .dataframe thead th {\n",
              "        text-align: right;\n",
              "    }\n",
              "</style>\n",
              "<table border=\"1\" class=\"dataframe\">\n",
              "  <thead>\n",
              "    <tr style=\"text-align: right;\">\n",
              "      <th></th>\n",
              "      <th>pts</th>\n",
              "    </tr>\n",
              "    <tr>\n",
              "      <th>fran_id</th>\n",
              "      <th></th>\n",
              "    </tr>\n",
              "  </thead>\n",
              "  <tbody>\n",
              "    <tr>\n",
              "      <th>Condors</th>\n",
              "      <td>115.446512</td>\n",
              "    </tr>\n",
              "    <tr>\n",
              "      <th>Squires</th>\n",
              "      <td>114.051314</td>\n",
              "    </tr>\n",
              "    <tr>\n",
              "      <th>Floridians</th>\n",
              "      <td>112.654545</td>\n",
              "    </tr>\n",
              "    <tr>\n",
              "      <th>Stars</th>\n",
              "      <td>112.354497</td>\n",
              "    </tr>\n",
              "    <tr>\n",
              "      <th>Colonels</th>\n",
              "      <td>111.625296</td>\n",
              "    </tr>\n",
              "  </tbody>\n",
              "</table>\n",
              "</div>"
            ],
            "text/plain": [
              "                   pts\n",
              "fran_id               \n",
              "Condors     115.446512\n",
              "Squires     114.051314\n",
              "Floridians  112.654545\n",
              "Stars       112.354497\n",
              "Colonels    111.625296"
            ]
          },
          "metadata": {
            "tags": []
          },
          "execution_count": 47
        }
      ]
    },
    {
      "cell_type": "code",
      "metadata": {
        "id": "xIYPhFH7G18r"
      },
      "source": [
        "np.testing.assert_array_almost_equal(five_best_teams[\"pts\"].values, [115.44651163, 114.05131414, 112.65454545, 112.35449735, 111.62529551])"
      ],
      "execution_count": 48,
      "outputs": []
    },
    {
      "cell_type": "markdown",
      "metadata": {
        "id": "8u_uhy4cG18r"
      },
      "source": [
        "## Basic Visualizations"
      ]
    },
    {
      "cell_type": "markdown",
      "metadata": {
        "id": "GXuxno3kG18s"
      },
      "source": [
        "Although at the end of this week you will have learned some fancy ways of visualizing data with matplotlib and Seaborn, Pandas exposes some basic visualization API, which is quite useful for many basic cases."
      ]
    },
    {
      "cell_type": "markdown",
      "metadata": {
        "id": "QlS-0iiXG18s"
      },
      "source": [
        "Let's start with some readings. Go through a official Pandas [tutorial](https://pandas.pydata.org/docs/user_guide/visualization.html) on the visualizations API. Copy-paste the code, try to run it in the notebook."
      ]
    },
    {
      "cell_type": "markdown",
      "metadata": {
        "id": "GXAZEkWtG18s"
      },
      "source": [
        "### Exercise - let's visualize the games!"
      ]
    },
    {
      "cell_type": "code",
      "metadata": {
        "id": "krmE-3Fk-ClM"
      },
      "source": [
        "import matplotlib.pyplot as plt"
      ],
      "execution_count": 10,
      "outputs": []
    },
    {
      "cell_type": "code",
      "metadata": {
        "colab": {
          "base_uri": "https://localhost:8080/",
          "height": 373
        },
        "id": "aJxoBs1c-PjG",
        "outputId": "c522e58e-165f-4b33-a4e2-aa7e61cdaa15"
      },
      "source": [
        "grouped = df1.groupby('fran_id').agg({'pts':np.mean})\r\n",
        "top10 = grouped.nlargest(10, 'pts')\r\n",
        "top10"
      ],
      "execution_count": 12,
      "outputs": [
        {
          "output_type": "execute_result",
          "data": {
            "text/html": [
              "<div>\n",
              "<style scoped>\n",
              "    .dataframe tbody tr th:only-of-type {\n",
              "        vertical-align: middle;\n",
              "    }\n",
              "\n",
              "    .dataframe tbody tr th {\n",
              "        vertical-align: top;\n",
              "    }\n",
              "\n",
              "    .dataframe thead th {\n",
              "        text-align: right;\n",
              "    }\n",
              "</style>\n",
              "<table border=\"1\" class=\"dataframe\">\n",
              "  <thead>\n",
              "    <tr style=\"text-align: right;\">\n",
              "      <th></th>\n",
              "      <th>pts</th>\n",
              "    </tr>\n",
              "    <tr>\n",
              "      <th>fran_id</th>\n",
              "      <th></th>\n",
              "    </tr>\n",
              "  </thead>\n",
              "  <tbody>\n",
              "    <tr>\n",
              "      <th>Condors</th>\n",
              "      <td>115.446512</td>\n",
              "    </tr>\n",
              "    <tr>\n",
              "      <th>Squires</th>\n",
              "      <td>114.051314</td>\n",
              "    </tr>\n",
              "    <tr>\n",
              "      <th>Floridians</th>\n",
              "      <td>112.654545</td>\n",
              "    </tr>\n",
              "    <tr>\n",
              "      <th>Stars</th>\n",
              "      <td>112.354497</td>\n",
              "    </tr>\n",
              "    <tr>\n",
              "      <th>Colonels</th>\n",
              "      <td>111.625296</td>\n",
              "    </tr>\n",
              "    <tr>\n",
              "      <th>Spirits</th>\n",
              "      <td>110.519949</td>\n",
              "    </tr>\n",
              "    <tr>\n",
              "      <th>Sails</th>\n",
              "      <td>109.781022</td>\n",
              "    </tr>\n",
              "    <tr>\n",
              "      <th>Sounds</th>\n",
              "      <td>108.439024</td>\n",
              "    </tr>\n",
              "    <tr>\n",
              "      <th>Nuggets</th>\n",
              "      <td>108.199029</td>\n",
              "    </tr>\n",
              "    <tr>\n",
              "      <th>Suns</th>\n",
              "      <td>107.226961</td>\n",
              "    </tr>\n",
              "  </tbody>\n",
              "</table>\n",
              "</div>"
            ],
            "text/plain": [
              "                   pts\n",
              "fran_id               \n",
              "Condors     115.446512\n",
              "Squires     114.051314\n",
              "Floridians  112.654545\n",
              "Stars       112.354497\n",
              "Colonels    111.625296\n",
              "Spirits     110.519949\n",
              "Sails       109.781022\n",
              "Sounds      108.439024\n",
              "Nuggets     108.199029\n",
              "Suns        107.226961"
            ]
          },
          "metadata": {
            "tags": []
          },
          "execution_count": 12
        }
      ]
    },
    {
      "cell_type": "code",
      "metadata": {
        "colab": {
          "base_uri": "https://localhost:8080/",
          "height": 338
        },
        "id": "2pM3o8zfBKB2",
        "outputId": "04b91842-e22f-4061-b1b1-69f0038b064d"
      },
      "source": [
        "top10.plot(kind = 'bar')"
      ],
      "execution_count": 16,
      "outputs": [
        {
          "output_type": "execute_result",
          "data": {
            "text/plain": [
              "<matplotlib.axes._subplots.AxesSubplot at 0x7ff4fc5cb0d0>"
            ]
          },
          "metadata": {
            "tags": []
          },
          "execution_count": 16
        },
        {
          "output_type": "display_data",
          "data": {
            "image/png": "[encoded data removed]",
            "text/plain": [
              "<Figure size 432x288 with 1 Axes>"
            ]
          },
          "metadata": {
            "tags": [],
            "needs_background": "light"
          }
        }
      ]
    },
    {
      "cell_type": "code",
      "metadata": {
        "colab": {
          "base_uri": "https://localhost:8080/",
          "height": 373
        },
        "id": "GQATtt1MB0bx",
        "outputId": "eb6fa1de-f6a6-4226-9cfd-1353a60ac7e7"
      },
      "source": [
        "worst10 = grouped.nsmallest(10, 'pts')\r\n",
        "worst10"
      ],
      "execution_count": 17,
      "outputs": [
        {
          "output_type": "execute_result",
          "data": {
            "text/html": [
              "<div>\n",
              "<style scoped>\n",
              "    .dataframe tbody tr th:only-of-type {\n",
              "        vertical-align: middle;\n",
              "    }\n",
              "\n",
              "    .dataframe tbody tr th {\n",
              "        vertical-align: top;\n",
              "    }\n",
              "\n",
              "    .dataframe thead th {\n",
              "        text-align: right;\n",
              "    }\n",
              "</style>\n",
              "<table border=\"1\" class=\"dataframe\">\n",
              "  <thead>\n",
              "    <tr style=\"text-align: right;\">\n",
              "      <th></th>\n",
              "      <th>pts</th>\n",
              "    </tr>\n",
              "    <tr>\n",
              "      <th>fran_id</th>\n",
              "      <th></th>\n",
              "    </tr>\n",
              "  </thead>\n",
              "  <tbody>\n",
              "    <tr>\n",
              "      <th>Ironmen</th>\n",
              "      <td>61.233333</td>\n",
              "    </tr>\n",
              "    <tr>\n",
              "      <th>Falcons</th>\n",
              "      <td>63.283333</td>\n",
              "    </tr>\n",
              "    <tr>\n",
              "      <th>Huskies</th>\n",
              "      <td>66.583333</td>\n",
              "    </tr>\n",
              "    <tr>\n",
              "      <th>Rebels</th>\n",
              "      <td>71.015873</td>\n",
              "    </tr>\n",
              "    <tr>\n",
              "      <th>Bombers</th>\n",
              "      <td>71.457831</td>\n",
              "    </tr>\n",
              "    <tr>\n",
              "      <th>Steamrollers</th>\n",
              "      <td>73.642857</td>\n",
              "    </tr>\n",
              "    <tr>\n",
              "      <th>Jets</th>\n",
              "      <td>74.700000</td>\n",
              "    </tr>\n",
              "    <tr>\n",
              "      <th>Capitols</th>\n",
              "      <td>76.931271</td>\n",
              "    </tr>\n",
              "    <tr>\n",
              "      <th>Denver</th>\n",
              "      <td>77.709677</td>\n",
              "    </tr>\n",
              "    <tr>\n",
              "      <th>Stags</th>\n",
              "      <td>78.453846</td>\n",
              "    </tr>\n",
              "  </tbody>\n",
              "</table>\n",
              "</div>"
            ],
            "text/plain": [
              "                    pts\n",
              "fran_id                \n",
              "Ironmen       61.233333\n",
              "Falcons       63.283333\n",
              "Huskies       66.583333\n",
              "Rebels        71.015873\n",
              "Bombers       71.457831\n",
              "Steamrollers  73.642857\n",
              "Jets          74.700000\n",
              "Capitols      76.931271\n",
              "Denver        77.709677\n",
              "Stags         78.453846"
            ]
          },
          "metadata": {
            "tags": []
          },
          "execution_count": 17
        }
      ]
    },
    {
      "cell_type": "code",
      "metadata": {
        "colab": {
          "base_uri": "https://localhost:8080/",
          "height": 350
        },
        "id": "rMusDSecCGeW",
        "outputId": "e7df469f-1e00-494f-ca09-dfff539cc224"
      },
      "source": [
        "worst10.plot(kind = 'bar')"
      ],
      "execution_count": 19,
      "outputs": [
        {
          "output_type": "execute_result",
          "data": {
            "text/plain": [
              "<matplotlib.axes._subplots.AxesSubplot at 0x7ff4fc11ea50>"
            ]
          },
          "metadata": {
            "tags": []
          },
          "execution_count": 19
        },
        {
          "output_type": "display_data",
          "data": {
            "image/png": "[encoded data removed]",
            "text/plain": [
              "<Figure size 432x288 with 1 Axes>"
            ]
          },
          "metadata": {
            "tags": [],
            "needs_background": "light"
          }
        }
      ]
    },
    {
      "cell_type": "code",
      "metadata": {
        "colab": {
          "base_uri": "https://localhost:8080/",
          "height": 358
        },
        "id": "fzv6dsWACl3y",
        "outputId": "698dc6c5-1252-48dd-bbd1-0e492ff7d4fb"
      },
      "source": [
        "grouped.sort_values(by = ['pts'], inplace = True)\r\n",
        "grouped.plot(kind = 'bar')"
      ],
      "execution_count": 22,
      "outputs": [
        {
          "output_type": "execute_result",
          "data": {
            "text/plain": [
              "<matplotlib.axes._subplots.AxesSubplot at 0x7ff4fbca0fd0>"
            ]
          },
          "metadata": {
            "tags": []
          },
          "execution_count": 22
        },
        {
          "output_type": "display_data",
          "data": {
            "image/png": "[encoded data removed]",
            "text/plain": [
              "<Figure size 432x288 with 1 Axes>"
            ]
          },
          "metadata": {
            "tags": [],
            "needs_background": "light"
          }
        }
      ]
    },
    {
      "cell_type": "markdown",
      "metadata": {
        "id": "ML_jzE_UG18s"
      },
      "source": [
        "Visualize top 10 teams who score most / least on average per play. Use a bar chart for that."
      ]
    },
    {
      "cell_type": "markdown",
      "metadata": {
        "id": "8oyxFU8EG18s"
      },
      "source": [
        "You should see a result as follows:\n",
        "<div><img src=\"https://i.imgur.com/io7fvju.png\" /></div>"
      ]
    },
    {
      "cell_type": "markdown",
      "metadata": {
        "id": "dW8b6nxfG18t"
      },
      "source": [
        "You should see a result as follows:\n",
        "<div><img src=\"https://i.imgur.com/6VXMksY.png\" /></div>"
      ]
    },
    {
      "cell_type": "markdown",
      "metadata": {
        "id": "raaon4SNG18t"
      },
      "source": [
        "Now try to visualize all team scores the same way."
      ]
    },
    {
      "cell_type": "markdown",
      "metadata": {
        "id": "OVB5_ciGG18t"
      },
      "source": [
        "You should see a result as follows:\n",
        "<div><img src=\"https://i.imgur.com/L2iTGuC.png\" /></div>"
      ]
    },
    {
      "cell_type": "code",
      "metadata": {
        "colab": {
          "base_uri": "https://localhost:8080/",
          "height": 282
        },
        "id": "e2V4W8cPDED5",
        "outputId": "4e429999-f7db-461c-e01a-5df328f68b8d"
      },
      "source": [
        "grouped.plot(kind = 'hist', bins = 20)"
      ],
      "execution_count": 24,
      "outputs": [
        {
          "output_type": "execute_result",
          "data": {
            "text/plain": [
              "<matplotlib.axes._subplots.AxesSubplot at 0x7ff4fb90b950>"
            ]
          },
          "metadata": {
            "tags": []
          },
          "execution_count": 24
        },
        {
          "output_type": "display_data",
          "data": {
            "image/png": "[encoded data removed]",
            "text/plain": [
              "<Figure size 432x288 with 1 Axes>"
            ]
          },
          "metadata": {
            "tags": [],
            "needs_background": "light"
          }
        }
      ]
    },
    {
      "cell_type": "markdown",
      "metadata": {
        "id": "WzwAyhfRG18t"
      },
      "source": [
        "The results do not seem that intriguing. Although, it seems that the slope of 60-95 scoring teams and 100-120 is steeper than mid-section of the curve. Which indicates that most teams score around 100 points.\n",
        "\n",
        "A histogram could enhance these frequency differences. Plot the data with a `hist` type with 20 bins. Would you guess what kind of distribution does it (nearly) follow?"
      ]
    },
    {
      "cell_type": "markdown",
      "metadata": {
        "id": "GO1FSYhwG18t"
      },
      "source": [
        "You should see a result as follows:\n",
        "<div><img src=\"https://i.imgur.com/Pc3sUKN.png\"/></div>"
      ]
    },
    {
      "cell_type": "markdown",
      "metadata": {
        "id": "7n9dh3KnG18t"
      },
      "source": [
        "Seems like most teams do score ~100 - 105 points per game. The kind of distribution on the right is called a skewed Normal Distribution."
      ]
    },
    {
      "cell_type": "markdown",
      "metadata": {
        "id": "yqUYuXDLG18t"
      },
      "source": [
        "There's one more often used plot type to explore - a **line chart**. Your task is to visualize Los Angeles Lakers wins per years. Which year has been most successful for the team?"
      ]
    },
    {
      "cell_type": "markdown",
      "metadata": {
        "id": "dpM8Q3Q5G18u"
      },
      "source": [
        "From the chart, it should be clear that LAL success is periodic - 10 to 20 years they win about 80 times per year."
      ]
    },
    {
      "cell_type": "code",
      "metadata": {
        "colab": {
          "base_uri": "https://localhost:8080/",
          "height": 266
        },
        "id": "giajod1CEmfE",
        "outputId": "81b55b8d-ac59-4add-d798-7619586951ee"
      },
      "source": [
        "LAL_df = df1[(df1['team_id'] == 'LAL') & (df1['game_result'] == 'W')]\r\n",
        "LAL_df.head()"
      ],
      "execution_count": 35,
      "outputs": [
        {
          "output_type": "execute_result",
          "data": {
            "text/html": [
              "<div>\n",
              "<style scoped>\n",
              "    .dataframe tbody tr th:only-of-type {\n",
              "        vertical-align: middle;\n",
              "    }\n",
              "\n",
              "    .dataframe tbody tr th {\n",
              "        vertical-align: top;\n",
              "    }\n",
              "\n",
              "    .dataframe thead th {\n",
              "        text-align: right;\n",
              "    }\n",
              "</style>\n",
              "<table border=\"1\" class=\"dataframe\">\n",
              "  <thead>\n",
              "    <tr style=\"text-align: right;\">\n",
              "      <th></th>\n",
              "      <th>gameorder</th>\n",
              "      <th>game_id</th>\n",
              "      <th>lg_id</th>\n",
              "      <th>_iscopy</th>\n",
              "      <th>year_id</th>\n",
              "      <th>date_game</th>\n",
              "      <th>seasongame</th>\n",
              "      <th>is_playoffs</th>\n",
              "      <th>team_id</th>\n",
              "      <th>fran_id</th>\n",
              "      <th>pts</th>\n",
              "      <th>elo_i</th>\n",
              "      <th>elo_n</th>\n",
              "      <th>win_equiv</th>\n",
              "      <th>opp_id</th>\n",
              "      <th>opp_fran</th>\n",
              "      <th>opp_pts</th>\n",
              "      <th>opp_elo_i</th>\n",
              "      <th>opp_elo_n</th>\n",
              "      <th>game_location</th>\n",
              "      <th>game_result</th>\n",
              "      <th>forecast</th>\n",
              "      <th>notes</th>\n",
              "    </tr>\n",
              "  </thead>\n",
              "  <tbody>\n",
              "    <tr>\n",
              "      <th>9747</th>\n",
              "      <td>4874</td>\n",
              "      <td>196010250LAL</td>\n",
              "      <td>NBA</td>\n",
              "      <td>0</td>\n",
              "      <td>1961</td>\n",
              "      <td>10/25/1960</td>\n",
              "      <td>4</td>\n",
              "      <td>0</td>\n",
              "      <td>LAL</td>\n",
              "      <td>Lakers</td>\n",
              "      <td>120</td>\n",
              "      <td>1435.3485</td>\n",
              "      <td>1438.7944</td>\n",
              "      <td>33.586594</td>\n",
              "      <td>NYK</td>\n",
              "      <td>Knicks</td>\n",
              "      <td>118</td>\n",
              "      <td>1450.8157</td>\n",
              "      <td>1447.3698</td>\n",
              "      <td>H</td>\n",
              "      <td>W</td>\n",
              "      <td>0.619308</td>\n",
              "      <td>NaN</td>\n",
              "    </tr>\n",
              "    <tr>\n",
              "      <th>9770</th>\n",
              "      <td>4886</td>\n",
              "      <td>196011020LAL</td>\n",
              "      <td>NBA</td>\n",
              "      <td>0</td>\n",
              "      <td>1961</td>\n",
              "      <td>11/2/1960</td>\n",
              "      <td>7</td>\n",
              "      <td>0</td>\n",
              "      <td>LAL</td>\n",
              "      <td>Lakers</td>\n",
              "      <td>106</td>\n",
              "      <td>1434.1538</td>\n",
              "      <td>1441.1224</td>\n",
              "      <td>33.823059</td>\n",
              "      <td>NYK</td>\n",
              "      <td>Knicks</td>\n",
              "      <td>96</td>\n",
              "      <td>1435.8345</td>\n",
              "      <td>1428.8658</td>\n",
              "      <td>H</td>\n",
              "      <td>W</td>\n",
              "      <td>0.637833</td>\n",
              "      <td>at Detroit MI</td>\n",
              "    </tr>\n",
              "    <tr>\n",
              "      <th>9778</th>\n",
              "      <td>4890</td>\n",
              "      <td>196011050LAL</td>\n",
              "      <td>NBA</td>\n",
              "      <td>0</td>\n",
              "      <td>1961</td>\n",
              "      <td>11/5/1960</td>\n",
              "      <td>8</td>\n",
              "      <td>0</td>\n",
              "      <td>LAL</td>\n",
              "      <td>Lakers</td>\n",
              "      <td>112</td>\n",
              "      <td>1441.1224</td>\n",
              "      <td>1446.1885</td>\n",
              "      <td>34.339325</td>\n",
              "      <td>SYR</td>\n",
              "      <td>Sixers</td>\n",
              "      <td>110</td>\n",
              "      <td>1554.1652</td>\n",
              "      <td>1549.0991</td>\n",
              "      <td>H</td>\n",
              "      <td>W</td>\n",
              "      <td>0.481239</td>\n",
              "      <td>NaN</td>\n",
              "    </tr>\n",
              "    <tr>\n",
              "      <th>9782</th>\n",
              "      <td>4892</td>\n",
              "      <td>196011060LAL</td>\n",
              "      <td>NBA</td>\n",
              "      <td>0</td>\n",
              "      <td>1961</td>\n",
              "      <td>11/6/1960</td>\n",
              "      <td>9</td>\n",
              "      <td>0</td>\n",
              "      <td>LAL</td>\n",
              "      <td>Lakers</td>\n",
              "      <td>119</td>\n",
              "      <td>1446.1885</td>\n",
              "      <td>1454.0042</td>\n",
              "      <td>35.140011</td>\n",
              "      <td>SYR</td>\n",
              "      <td>Sixers</td>\n",
              "      <td>113</td>\n",
              "      <td>1549.0991</td>\n",
              "      <td>1541.2834</td>\n",
              "      <td>H</td>\n",
              "      <td>W</td>\n",
              "      <td>0.495811</td>\n",
              "      <td>at San Francisco CA</td>\n",
              "    </tr>\n",
              "    <tr>\n",
              "      <th>9813</th>\n",
              "      <td>4907</td>\n",
              "      <td>196011150NYK</td>\n",
              "      <td>NBA</td>\n",
              "      <td>1</td>\n",
              "      <td>1961</td>\n",
              "      <td>11/15/1960</td>\n",
              "      <td>12</td>\n",
              "      <td>0</td>\n",
              "      <td>LAL</td>\n",
              "      <td>Lakers</td>\n",
              "      <td>123</td>\n",
              "      <td>1445.8574</td>\n",
              "      <td>1463.3630</td>\n",
              "      <td>36.104782</td>\n",
              "      <td>NYK</td>\n",
              "      <td>Knicks</td>\n",
              "      <td>108</td>\n",
              "      <td>1423.4059</td>\n",
              "      <td>1405.9003</td>\n",
              "      <td>A</td>\n",
              "      <td>W</td>\n",
              "      <td>0.390216</td>\n",
              "      <td>NaN</td>\n",
              "    </tr>\n",
              "  </tbody>\n",
              "</table>\n",
              "</div>"
            ],
            "text/plain": [
              "      gameorder       game_id lg_id  ...  game_result  forecast                notes\n",
              "9747       4874  196010250LAL   NBA  ...            W  0.619308                  NaN\n",
              "9770       4886  196011020LAL   NBA  ...            W  0.637833        at Detroit MI\n",
              "9778       4890  196011050LAL   NBA  ...            W  0.481239                  NaN\n",
              "9782       4892  196011060LAL   NBA  ...            W  0.495811  at San Francisco CA\n",
              "9813       4907  196011150NYK   NBA  ...            W  0.390216                  NaN\n",
              "\n",
              "[5 rows x 23 columns]"
            ]
          },
          "metadata": {
            "tags": []
          },
          "execution_count": 35
        }
      ]
    },
    {
      "cell_type": "code",
      "metadata": {
        "id": "lLw5_XIIKvfT"
      },
      "source": [
        "LAL_grouped = LAL_df.groupby('year_id').agg({'game_result':len})"
      ],
      "execution_count": 49,
      "outputs": []
    },
    {
      "cell_type": "code",
      "metadata": {
        "colab": {
          "base_uri": "https://localhost:8080/",
          "height": 406
        },
        "id": "9JyQgZP-Ki7r",
        "outputId": "bdc6d442-bf01-49fe-cd45-bddf9478107b"
      },
      "source": [
        "LAL_grouped.plot(kind = 'line', figsize = (8, 6))"
      ],
      "execution_count": 53,
      "outputs": [
        {
          "output_type": "execute_result",
          "data": {
            "text/plain": [
              "<matplotlib.axes._subplots.AxesSubplot at 0x7ff4fbb1ed10>"
            ]
          },
          "metadata": {
            "tags": []
          },
          "execution_count": 53
        },
        {
          "output_type": "display_data",
          "data": {
            "image/png": "[encoded data removed]",
            "text/plain": [
              "<Figure size 576x432 with 1 Axes>"
            ]
          },
          "metadata": {
            "tags": [],
            "needs_background": "light"
          }
        }
      ]
    },
    {
      "cell_type": "markdown",
      "metadata": {
        "id": "zS9-r-8rMW2k"
      },
      "source": [
        "As char shows, most successful years repeats appr. every 20 year, with wins peaking at 80 wins per year."
      ]
    },
    {
      "cell_type": "markdown",
      "metadata": {
        "id": "rCMrrLzlG18u"
      },
      "source": [
        "## Exercise"
      ]
    },
    {
      "cell_type": "code",
      "metadata": {
        "colab": {
          "base_uri": "https://localhost:8080/",
          "height": 195
        },
        "id": "9FAof4UHM54N",
        "outputId": "21b2532c-7576-4a3a-cdcb-969b99f2186f"
      },
      "source": [
        "df = pd.read_csv('https://raw.githubusercontent.com/fivethirtyeight/data/master/births/US_births_2000-2014_SSA.csv')\r\n",
        "df.head()"
      ],
      "execution_count": 54,
      "outputs": [
        {
          "output_type": "execute_result",
          "data": {
            "text/html": [
              "<div>\n",
              "<style scoped>\n",
              "    .dataframe tbody tr th:only-of-type {\n",
              "        vertical-align: middle;\n",
              "    }\n",
              "\n",
              "    .dataframe tbody tr th {\n",
              "        vertical-align: top;\n",
              "    }\n",
              "\n",
              "    .dataframe thead th {\n",
              "        text-align: right;\n",
              "    }\n",
              "</style>\n",
              "<table border=\"1\" class=\"dataframe\">\n",
              "  <thead>\n",
              "    <tr style=\"text-align: right;\">\n",
              "      <th></th>\n",
              "      <th>year</th>\n",
              "      <th>month</th>\n",
              "      <th>date_of_month</th>\n",
              "      <th>day_of_week</th>\n",
              "      <th>births</th>\n",
              "    </tr>\n",
              "  </thead>\n",
              "  <tbody>\n",
              "    <tr>\n",
              "      <th>0</th>\n",
              "      <td>2000</td>\n",
              "      <td>1</td>\n",
              "      <td>1</td>\n",
              "      <td>6</td>\n",
              "      <td>9083</td>\n",
              "    </tr>\n",
              "    <tr>\n",
              "      <th>1</th>\n",
              "      <td>2000</td>\n",
              "      <td>1</td>\n",
              "      <td>2</td>\n",
              "      <td>7</td>\n",
              "      <td>8006</td>\n",
              "    </tr>\n",
              "    <tr>\n",
              "      <th>2</th>\n",
              "      <td>2000</td>\n",
              "      <td>1</td>\n",
              "      <td>3</td>\n",
              "      <td>1</td>\n",
              "      <td>11363</td>\n",
              "    </tr>\n",
              "    <tr>\n",
              "      <th>3</th>\n",
              "      <td>2000</td>\n",
              "      <td>1</td>\n",
              "      <td>4</td>\n",
              "      <td>2</td>\n",
              "      <td>13032</td>\n",
              "    </tr>\n",
              "    <tr>\n",
              "      <th>4</th>\n",
              "      <td>2000</td>\n",
              "      <td>1</td>\n",
              "      <td>5</td>\n",
              "      <td>3</td>\n",
              "      <td>12558</td>\n",
              "    </tr>\n",
              "  </tbody>\n",
              "</table>\n",
              "</div>"
            ],
            "text/plain": [
              "   year  month  date_of_month  day_of_week  births\n",
              "0  2000      1              1            6    9083\n",
              "1  2000      1              2            7    8006\n",
              "2  2000      1              3            1   11363\n",
              "3  2000      1              4            2   13032\n",
              "4  2000      1              5            3   12558"
            ]
          },
          "metadata": {
            "tags": []
          },
          "execution_count": 54
        }
      ]
    },
    {
      "cell_type": "code",
      "metadata": {
        "colab": {
          "base_uri": "https://localhost:8080/",
          "height": 225
        },
        "id": "Hgb4MoYlN7qU",
        "outputId": "e13325a2-f51b-459d-d0ee-7357fb3d8cd8"
      },
      "source": [
        "grouped = df.groupby([df['year'], df['month']]).agg({'births': sum})\r\n",
        "grouped.head()"
      ],
      "execution_count": 84,
      "outputs": [
        {
          "output_type": "execute_result",
          "data": {
            "text/html": [
              "<div>\n",
              "<style scoped>\n",
              "    .dataframe tbody tr th:only-of-type {\n",
              "        vertical-align: middle;\n",
              "    }\n",
              "\n",
              "    .dataframe tbody tr th {\n",
              "        vertical-align: top;\n",
              "    }\n",
              "\n",
              "    .dataframe thead th {\n",
              "        text-align: right;\n",
              "    }\n",
              "</style>\n",
              "<table border=\"1\" class=\"dataframe\">\n",
              "  <thead>\n",
              "    <tr style=\"text-align: right;\">\n",
              "      <th></th>\n",
              "      <th></th>\n",
              "      <th>births</th>\n",
              "    </tr>\n",
              "    <tr>\n",
              "      <th>year</th>\n",
              "      <th>month</th>\n",
              "      <th></th>\n",
              "    </tr>\n",
              "  </thead>\n",
              "  <tbody>\n",
              "    <tr>\n",
              "      <th rowspan=\"5\" valign=\"top\">2000</th>\n",
              "      <th>1</th>\n",
              "      <td>337739</td>\n",
              "    </tr>\n",
              "    <tr>\n",
              "      <th>2</th>\n",
              "      <td>324046</td>\n",
              "    </tr>\n",
              "    <tr>\n",
              "      <th>3</th>\n",
              "      <td>347824</td>\n",
              "    </tr>\n",
              "    <tr>\n",
              "      <th>4</th>\n",
              "      <td>323357</td>\n",
              "    </tr>\n",
              "    <tr>\n",
              "      <th>5</th>\n",
              "      <td>347950</td>\n",
              "    </tr>\n",
              "  </tbody>\n",
              "</table>\n",
              "</div>"
            ],
            "text/plain": [
              "            births\n",
              "year month        \n",
              "2000 1      337739\n",
              "     2      324046\n",
              "     3      347824\n",
              "     4      323357\n",
              "     5      347950"
            ]
          },
          "metadata": {
            "tags": []
          },
          "execution_count": 84
        }
      ]
    },
    {
      "cell_type": "code",
      "metadata": {
        "id": "OKeAgsXQS7of"
      },
      "source": [
        "g = grouped.unstack()"
      ],
      "execution_count": 75,
      "outputs": []
    },
    {
      "cell_type": "code",
      "metadata": {
        "colab": {
          "base_uri": "https://localhost:8080/",
          "height": 405
        },
        "id": "CA4rJXhDSCQq",
        "outputId": "e93de5a1-4372-4d37-e9da-fba73a3fad24"
      },
      "source": [
        "g.plot(kind = 'line', figsize = (12, 6))"
      ],
      "execution_count": 83,
      "outputs": [
        {
          "output_type": "execute_result",
          "data": {
            "text/plain": [
              "<matplotlib.axes._subplots.AxesSubplot at 0x7ff4f9930e90>"
            ]
          },
          "metadata": {
            "tags": []
          },
          "execution_count": 83
        },
        {
          "output_type": "display_data",
          "data": {
            "image/png": "[encoded data removed]",
            "text/plain": [
              "<Figure size 864x432 with 1 Axes>"
            ]
          },
          "metadata": {
            "tags": [],
            "needs_background": "light"
          }
        }
      ]
    },
    {
      "cell_type": "markdown",
      "metadata": {
        "id": "uSbjbB06T5p2"
      },
      "source": [
        "**How does the month impact childbirth?**\r\n",
        "\r\n",
        "As we see from the graph, summer months and September have a highest rate of child births throughout the years. In a contract November and December have a  lowest childbirth numbers.\r\n",
        "\r\n"
      ]
    },
    {
      "cell_type": "markdown",
      "metadata": {
        "id": "YQUxMzBCVdom"
      },
      "source": [
        "**Have there been any significants ups / downs in childbirth throughout the years? Could you explain them?**\r\n",
        "\r\n",
        "As we see from the above graph, childbirths rates were increasing till financial crisis hit USA in 2008. After that numbers declined til 2011 - 2012 and started to rise again."
      ]
    },
    {
      "cell_type": "code",
      "metadata": {
        "colab": {
          "base_uri": "https://localhost:8080/",
          "height": 284
        },
        "id": "3WrSzQ0gWDWW",
        "outputId": "80ed8060-5c5a-4c66-87f1-850c18f5448c"
      },
      "source": [
        "days = df.groupby(df['day_of_week']).agg({'births': sum})\r\n",
        "days"
      ],
      "execution_count": 87,
      "outputs": [
        {
          "output_type": "execute_result",
          "data": {
            "text/html": [
              "<div>\n",
              "<style scoped>\n",
              "    .dataframe tbody tr th:only-of-type {\n",
              "        vertical-align: middle;\n",
              "    }\n",
              "\n",
              "    .dataframe tbody tr th {\n",
              "        vertical-align: top;\n",
              "    }\n",
              "\n",
              "    .dataframe thead th {\n",
              "        text-align: right;\n",
              "    }\n",
              "</style>\n",
              "<table border=\"1\" class=\"dataframe\">\n",
              "  <thead>\n",
              "    <tr style=\"text-align: right;\">\n",
              "      <th></th>\n",
              "      <th>births</th>\n",
              "    </tr>\n",
              "    <tr>\n",
              "      <th>day_of_week</th>\n",
              "      <th></th>\n",
              "    </tr>\n",
              "  </thead>\n",
              "  <tbody>\n",
              "    <tr>\n",
              "      <th>1</th>\n",
              "      <td>9316001</td>\n",
              "    </tr>\n",
              "    <tr>\n",
              "      <th>2</th>\n",
              "      <td>10274874</td>\n",
              "    </tr>\n",
              "    <tr>\n",
              "      <th>3</th>\n",
              "      <td>10109130</td>\n",
              "    </tr>\n",
              "    <tr>\n",
              "      <th>4</th>\n",
              "      <td>10045436</td>\n",
              "    </tr>\n",
              "    <tr>\n",
              "      <th>5</th>\n",
              "      <td>9850199</td>\n",
              "    </tr>\n",
              "    <tr>\n",
              "      <th>6</th>\n",
              "      <td>6704495</td>\n",
              "    </tr>\n",
              "    <tr>\n",
              "      <th>7</th>\n",
              "      <td>5886889</td>\n",
              "    </tr>\n",
              "  </tbody>\n",
              "</table>\n",
              "</div>"
            ],
            "text/plain": [
              "               births\n",
              "day_of_week          \n",
              "1             9316001\n",
              "2            10274874\n",
              "3            10109130\n",
              "4            10045436\n",
              "5             9850199\n",
              "6             6704495\n",
              "7             5886889"
            ]
          },
          "metadata": {
            "tags": []
          },
          "execution_count": 87
        }
      ]
    },
    {
      "cell_type": "code",
      "metadata": {
        "colab": {
          "base_uri": "https://localhost:8080/",
          "height": 308
        },
        "id": "ERR9-qkdWehh",
        "outputId": "e6770f37-8349-42b8-de97-15379b30a06a"
      },
      "source": [
        "days.plot(kind = 'line')"
      ],
      "execution_count": 89,
      "outputs": [
        {
          "output_type": "execute_result",
          "data": {
            "text/plain": [
              "<matplotlib.axes._subplots.AxesSubplot at 0x7ff4f96f3590>"
            ]
          },
          "metadata": {
            "tags": []
          },
          "execution_count": 89
        },
        {
          "output_type": "display_data",
          "data": {
            "image/png": "[encoded data removed]",
            "text/plain": [
              "<Figure size 432x288 with 1 Axes>"
            ]
          },
          "metadata": {
            "tags": [],
            "needs_background": "light"
          }
        }
      ]
    },
    {
      "cell_type": "markdown",
      "metadata": {
        "id": "moR0jK4QWuSj"
      },
      "source": [
        "**Which days of the week children are born most frequently on?**\r\n",
        "\r\n",
        "As we see childre are born mostly on working days."
      ]
    },
    {
      "cell_type": "code",
      "metadata": {
        "colab": {
          "base_uri": "https://localhost:8080/",
          "height": 462
        },
        "id": "fjAoR8qvW6KS",
        "outputId": "da482b20-5171-409f-db67-6e5ffe8ea1af"
      },
      "source": [
        "min_max_sum = df.groupby(df['month']).agg({'births': [min, max, sum]})\r\n",
        "min_max_sum"
      ],
      "execution_count": 94,
      "outputs": [
        {
          "output_type": "execute_result",
          "data": {
            "text/html": [
              "<div>\n",
              "<style scoped>\n",
              "    .dataframe tbody tr th:only-of-type {\n",
              "        vertical-align: middle;\n",
              "    }\n",
              "\n",
              "    .dataframe tbody tr th {\n",
              "        vertical-align: top;\n",
              "    }\n",
              "\n",
              "    .dataframe thead tr th {\n",
              "        text-align: left;\n",
              "    }\n",
              "\n",
              "    .dataframe thead tr:last-of-type th {\n",
              "        text-align: right;\n",
              "    }\n",
              "</style>\n",
              "<table border=\"1\" class=\"dataframe\">\n",
              "  <thead>\n",
              "    <tr>\n",
              "      <th></th>\n",
              "      <th colspan=\"3\" halign=\"left\">births</th>\n",
              "    </tr>\n",
              "    <tr>\n",
              "      <th></th>\n",
              "      <th>min</th>\n",
              "      <th>max</th>\n",
              "      <th>sum</th>\n",
              "    </tr>\n",
              "    <tr>\n",
              "      <th>month</th>\n",
              "      <th></th>\n",
              "      <th></th>\n",
              "      <th></th>\n",
              "    </tr>\n",
              "  </thead>\n",
              "  <tbody>\n",
              "    <tr>\n",
              "      <th>1</th>\n",
              "      <td>6540</td>\n",
              "      <td>13960</td>\n",
              "      <td>5072588</td>\n",
              "    </tr>\n",
              "    <tr>\n",
              "      <th>2</th>\n",
              "      <td>6707</td>\n",
              "      <td>14207</td>\n",
              "      <td>4725693</td>\n",
              "    </tr>\n",
              "    <tr>\n",
              "      <th>3</th>\n",
              "      <td>6497</td>\n",
              "      <td>13844</td>\n",
              "      <td>5172961</td>\n",
              "    </tr>\n",
              "    <tr>\n",
              "      <th>4</th>\n",
              "      <td>6545</td>\n",
              "      <td>13729</td>\n",
              "      <td>4960750</td>\n",
              "    </tr>\n",
              "    <tr>\n",
              "      <th>5</th>\n",
              "      <td>6609</td>\n",
              "      <td>14569</td>\n",
              "      <td>5195445</td>\n",
              "    </tr>\n",
              "    <tr>\n",
              "      <th>6</th>\n",
              "      <td>6963</td>\n",
              "      <td>14395</td>\n",
              "      <td>5163360</td>\n",
              "    </tr>\n",
              "    <tr>\n",
              "      <th>7</th>\n",
              "      <td>7279</td>\n",
              "      <td>15007</td>\n",
              "      <td>5450418</td>\n",
              "    </tr>\n",
              "    <tr>\n",
              "      <th>8</th>\n",
              "      <td>7352</td>\n",
              "      <td>15374</td>\n",
              "      <td>5540170</td>\n",
              "    </tr>\n",
              "    <tr>\n",
              "      <th>9</th>\n",
              "      <td>7399</td>\n",
              "      <td>16081</td>\n",
              "      <td>5399592</td>\n",
              "    </tr>\n",
              "    <tr>\n",
              "      <th>10</th>\n",
              "      <td>6870</td>\n",
              "      <td>14550</td>\n",
              "      <td>5302865</td>\n",
              "    </tr>\n",
              "    <tr>\n",
              "      <th>11</th>\n",
              "      <td>6864</td>\n",
              "      <td>14835</td>\n",
              "      <td>5008750</td>\n",
              "    </tr>\n",
              "    <tr>\n",
              "      <th>12</th>\n",
              "      <td>5728</td>\n",
              "      <td>15645</td>\n",
              "      <td>5194432</td>\n",
              "    </tr>\n",
              "  </tbody>\n",
              "</table>\n",
              "</div>"
            ],
            "text/plain": [
              "      births                \n",
              "         min    max      sum\n",
              "month                       \n",
              "1       6540  13960  5072588\n",
              "2       6707  14207  4725693\n",
              "3       6497  13844  5172961\n",
              "4       6545  13729  4960750\n",
              "5       6609  14569  5195445\n",
              "6       6963  14395  5163360\n",
              "7       7279  15007  5450418\n",
              "8       7352  15374  5540170\n",
              "9       7399  16081  5399592\n",
              "10      6870  14550  5302865\n",
              "11      6864  14835  5008750\n",
              "12      5728  15645  5194432"
            ]
          },
          "metadata": {
            "tags": []
          },
          "execution_count": 94
        }
      ]
    },
    {
      "cell_type": "markdown",
      "metadata": {
        "id": "KuCYr-Q0YTYn"
      },
      "source": [
        "**What's the lowest/biggest amount of childbirths per month?**\r\n",
        "\r\n",
        "As we see December has a lowest number for a childbirth per day. The highest childbirths number per day as well as per month belongs to September. Interesting that December has second bigest childbirth number per day too. February has the lowest number of childbirths per month."
      ]
    },
    {
      "cell_type": "code",
      "metadata": {
        "colab": {
          "base_uri": "https://localhost:8080/",
          "height": 432
        },
        "id": "wFuTmRdgd6Ek",
        "outputId": "827790aa-1421-485e-e478-e4a56c975074"
      },
      "source": [
        "month_std = df.groupby(df['month']).agg({'births': 'std'})\r\n",
        "month_std"
      ],
      "execution_count": 98,
      "outputs": [
        {
          "output_type": "execute_result",
          "data": {
            "text/html": [
              "<div>\n",
              "<style scoped>\n",
              "    .dataframe tbody tr th:only-of-type {\n",
              "        vertical-align: middle;\n",
              "    }\n",
              "\n",
              "    .dataframe tbody tr th {\n",
              "        vertical-align: top;\n",
              "    }\n",
              "\n",
              "    .dataframe thead th {\n",
              "        text-align: right;\n",
              "    }\n",
              "</style>\n",
              "<table border=\"1\" class=\"dataframe\">\n",
              "  <thead>\n",
              "    <tr style=\"text-align: right;\">\n",
              "      <th></th>\n",
              "      <th>births</th>\n",
              "    </tr>\n",
              "    <tr>\n",
              "      <th>month</th>\n",
              "      <th></th>\n",
              "    </tr>\n",
              "  </thead>\n",
              "  <tbody>\n",
              "    <tr>\n",
              "      <th>1</th>\n",
              "      <td>2166.016841</td>\n",
              "    </tr>\n",
              "    <tr>\n",
              "      <th>2</th>\n",
              "      <td>2153.713646</td>\n",
              "    </tr>\n",
              "    <tr>\n",
              "      <th>3</th>\n",
              "      <td>2174.596904</td>\n",
              "    </tr>\n",
              "    <tr>\n",
              "      <th>4</th>\n",
              "      <td>2203.383134</td>\n",
              "    </tr>\n",
              "    <tr>\n",
              "      <th>5</th>\n",
              "      <td>2333.335522</td>\n",
              "    </tr>\n",
              "    <tr>\n",
              "      <th>6</th>\n",
              "      <td>2255.685813</td>\n",
              "    </tr>\n",
              "    <tr>\n",
              "      <th>7</th>\n",
              "      <td>2358.034529</td>\n",
              "    </tr>\n",
              "    <tr>\n",
              "      <th>8</th>\n",
              "      <td>2299.771394</td>\n",
              "    </tr>\n",
              "    <tr>\n",
              "      <th>9</th>\n",
              "      <td>2456.548637</td>\n",
              "    </tr>\n",
              "    <tr>\n",
              "      <th>10</th>\n",
              "      <td>2218.436895</td>\n",
              "    </tr>\n",
              "    <tr>\n",
              "      <th>11</th>\n",
              "      <td>2413.190333</td>\n",
              "    </tr>\n",
              "    <tr>\n",
              "      <th>12</th>\n",
              "      <td>2553.815885</td>\n",
              "    </tr>\n",
              "  </tbody>\n",
              "</table>\n",
              "</div>"
            ],
            "text/plain": [
              "            births\n",
              "month             \n",
              "1      2166.016841\n",
              "2      2153.713646\n",
              "3      2174.596904\n",
              "4      2203.383134\n",
              "5      2333.335522\n",
              "6      2255.685813\n",
              "7      2358.034529\n",
              "8      2299.771394\n",
              "9      2456.548637\n",
              "10     2218.436895\n",
              "11     2413.190333\n",
              "12     2553.815885"
            ]
          },
          "metadata": {
            "tags": []
          },
          "execution_count": 98
        }
      ]
    },
    {
      "cell_type": "markdown",
      "metadata": {
        "id": "PtNLCvVLezMd"
      },
      "source": [
        "**Which months are most / least predictable in terms of childbirth? (hint - use standard deviation)**\r\n",
        "\r\n",
        "As we see the most predictable month (lowest standard deviation) is February and least predictable month (highest standard deviation) is December."
      ]
    },
    {
      "cell_type": "markdown",
      "metadata": {
        "id": "RB1FB-63G18u"
      },
      "source": [
        "Here's the [link](https://raw.githubusercontent.com/fivethirtyeight/data/master/births/US_births_2000-2014_SSA.csv) to the dataset."
      ]
    },
    {
      "cell_type": "markdown",
      "metadata": {
        "id": "jUR2gTpoG18u"
      },
      "source": [
        "Your objective is to answer the following questions:\n",
        "\n",
        "* How does the month impact childbirth?\n",
        "* Have there been any significants ups / downs in chilbirth throughout the years? Could you explain them?\n",
        "* Which days of the week children are born most frequently on?\n",
        "* What's the lowest/biggest amount of childbirths per month?\n",
        "* Which months are most / least predictable in terms of childbirth? (hint - use standard deviation)\n",
        "\n",
        "Requirements:\n",
        "* Dataset is loaded from a remote CSV.\n",
        "* Basic EDA Pandas statistical functions are used (min, max, mean, std).\n",
        "* Grouping and aggregations.\n",
        "* Charts used: line, bar plot."
      ]
    },
    {
      "cell_type": "markdown",
      "metadata": {
        "id": "i6YpHv_hG18v"
      },
      "source": [
        "Seems like there's a significantly lower amount of births during weekends. Could it be that on weekdays there are more doctors in hospitals? Source: https://www.sciencedaily.com/releases/2007/09/070925130026.htm."
      ]
    },
    {
      "cell_type": "markdown",
      "metadata": {
        "id": "B3hUnXMNG18v"
      },
      "source": [
        "People seem to be making children in winter, just before Christmas."
      ]
    },
    {
      "cell_type": "markdown",
      "metadata": {
        "id": "8_l--D53G18v"
      },
      "source": [
        "Pre-economical crysis baby boom?"
      ]
    },
    {
      "cell_type": "markdown",
      "metadata": {
        "id": "g45MypNiG18v"
      },
      "source": [
        "Seems like childbirth varies most towards the end of a year."
      ]
    },
    {
      "cell_type": "markdown",
      "metadata": {
        "id": "H4aDHNYmG18v"
      },
      "source": [
        "-------"
      ]
    },
    {
      "cell_type": "markdown",
      "metadata": {
        "id": "m2qqocezG18v"
      },
      "source": [
        "## Summary"
      ]
    },
    {
      "cell_type": "markdown",
      "metadata": {
        "id": "tC04kgU4G18v"
      },
      "source": [
        "Basic EDA is what data scientists always do with when starting to work with a new dataset. It's an essential skill to possess. Though, data comes in all shapes and flavors. There's much more to plotting than Pandas APIs. This is what we'll focus on in subsequent chapters."
      ]
    },
    {
      "cell_type": "code",
      "metadata": {
        "id": "26e-4y6hG18v"
      },
      "source": [
        ""
      ],
      "execution_count": null,
      "outputs": []
    }
  ]
}